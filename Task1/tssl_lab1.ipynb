{
  "nbformat": 4,
  "nbformat_minor": 0,
  "metadata": {
    "kernelspec": {
      "display_name": "Python 3",
      "language": "python",
      "name": "python3"
    },
    "language_info": {
      "codemirror_mode": {
        "name": "ipython",
        "version": 3
      },
      "file_extension": ".py",
      "mimetype": "text/x-python",
      "name": "python",
      "nbconvert_exporter": "python",
      "pygments_lexer": "ipython3",
      "version": "3.8.5"
    },
    "colab": {
      "name": "tssl_lab1.ipynb",
      "provenance": [],
      "toc_visible": true
    }
  },
  "cells": [
    {
      "cell_type": "markdown",
      "metadata": {
        "id": "w2Emq2KJErQ1",
        "colab_type": "text"
      },
      "source": [
        "# TSSL Lab 1 - Autoregressive models"
      ]
    },
    {
      "cell_type": "markdown",
      "metadata": {
        "id": "KmA1EV28ErQ2",
        "colab_type": "text"
      },
      "source": [
        "We load a few packages that are useful for solvign this lab assignment."
      ]
    },
    {
      "cell_type": "code",
      "metadata": {
        "id": "pkJmkxRgErQ3",
        "colab_type": "code",
        "colab": {}
      },
      "source": [
        "import pandas as pd # Loading data / handling data frames\n",
        "import numpy as np\n",
        "import matplotlib.pyplot as plt\n",
        "from sklearn import linear_model as lm  # Used for solving linear regression problems\n",
        "from sklearn.neural_network import MLPRegressor # Used for NAR model\n",
        "\n",
        "from tssltools_lab1 import acf, acfplot # Module available in LISAM - Used for plotting ACF"
      ],
      "execution_count": 1,
      "outputs": []
    },
    {
      "cell_type": "markdown",
      "metadata": {
        "id": "Hfk5PxmrErQ6",
        "colab_type": "text"
      },
      "source": [
        "## 1.1 Loading, plotting and detrending data"
      ]
    },
    {
      "cell_type": "markdown",
      "metadata": {
        "id": "2TmoM_zzErQ7",
        "colab_type": "text"
      },
      "source": [
        "In this lab we will build autoregressive models for a data set corresponding to the Global Mean Sea Level (GMSL) over the past few decades. The data is taken from https://climate.nasa.gov/vital-signs/sea-level/ and is available on LISAM in the file `sealevel.csv`."
      ]
    },
    {
      "cell_type": "markdown",
      "metadata": {
        "id": "PzgQCGBdErQ7",
        "colab_type": "text"
      },
      "source": [
        "**Q1**: Load the data and plot the GMSL versus time. How many observations are there in total in this data set?\n",
        "\n",
        "_Hint:_ With pandas you can use the function `pandas.read_csv` to read the csv file into a data frame. Plotting the time series can be done using `pyplot`. Note that the sea level data is stored in the 'GMSL' column and the time when each data point was recorded is stored in the column 'Year'."
      ]
    },
    {
      "cell_type": "markdown",
      "metadata": {
        "id": "jYn47UcNErQ8",
        "colab_type": "text"
      },
      "source": [
        "**A1**:"
      ]
    },
    {
      "cell_type": "code",
      "metadata": {
        "id": "ETXtYz3XErQ8",
        "colab_type": "code",
        "colab": {}
      },
      "source": [
        "seaLevelData = pd.read_csv(\"sealevel.csv\")"
      ],
      "execution_count": 2,
      "outputs": []
    },
    {
      "cell_type": "code",
      "metadata": {
        "id": "wABK2kWuGivE",
        "colab_type": "code",
        "colab": {
          "base_uri": "https://localhost:8080/",
          "height": 308
        },
        "outputId": "f33eb435-36f5-4aa3-8707-e214578a3a7b"
      },
      "source": [
        "#plot of GMSL vs Time \n",
        "\n",
        "plt.plot(seaLevelData['Year'] ,  seaLevelData['GMSL'])\n",
        "plt.xlabel(\"Time\")\n",
        "plt.ylabel(\"GMSL\")\n",
        "plt.suptitle(\"GMSL VS Time\")\n",
        "plt.show()"
      ],
      "execution_count": 3,
      "outputs": [
        {
          "output_type": "display_data",
          "data": {
            "image/png": "[encoded data removed]",
            "text/plain": [
              "<Figure size 432x288 with 1 Axes>"
            ]
          },
          "metadata": {
            "tags": [],
            "needs_background": "light"
          }
        }
      ]
    },
    {
      "cell_type": "code",
      "metadata": {
        "id": "87_9roXnJx3P",
        "colab_type": "code",
        "colab": {
          "base_uri": "https://localhost:8080/",
          "height": 34
        },
        "outputId": "f54e0dab-2778-47e0-dc12-3c224045a953"
      },
      "source": [
        "#total number of observation \n",
        "\n",
        "nObs = seaLevelData.shape[0]\n",
        "\n",
        "print(f\"Total number of obervation in given data is {nObs}\")"
      ],
      "execution_count": 4,
      "outputs": [
        {
          "output_type": "stream",
          "text": [
            "Total number of obervation in given data is 997\n"
          ],
          "name": "stdout"
        }
      ]
    },
    {
      "cell_type": "markdown",
      "metadata": {
        "id": "1aMZ2aG6ErRA",
        "colab_type": "text"
      },
      "source": [
        "**Q2**: The data has a clear upward trend. Before fitting an AR model to this data need to remove this trend. Explain, using one or two sentences, why this is necessary."
      ]
    },
    {
      "cell_type": "markdown",
      "metadata": {
        "id": "tN1cSw_AErRA",
        "colab_type": "text"
      },
      "source": [
        "**A2:** Since given data have clear upward tread which introduce changing mean over time. Now in order to apply AR model we need data with constant mean. Thus we have to detrend the data so stationary dataset can achieved and use for AR modeling."
      ]
    },
    {
      "cell_type": "markdown",
      "metadata": {
        "id": "iLT_NgdvErRB",
        "colab_type": "text"
      },
      "source": [
        "**Q3** Detrend the data following these steps:\n",
        "1. Fit a straight line, $\\mu_t=\\theta_0 + \\theta_1 u_t $ to the data based on the method of least squares. Here, $u_t$ is the time point when obervation $t$ was recorded.\n",
        "\n",
        "    _Hint:_ You can use `lm.LinearRegression().fit(...)` from scikit-learn. Note that the inputs need to be passed as a 2D array.\n",
        "\n",
        "    Before going on to the next step, plot your fitted line and the data in one figure.\n",
        "\n",
        "\n",
        "2. Subtract the fitted line from $y_t$ for the whole data series and plot the deviations from the straight line.\n",
        "\n",
        "**From now, we will use the detrended data in all parts of the lab.**\n",
        "\n",
        "_Note:_ The GMSL data is recorded at regular time intervals, so that $u_{t+1} - u_t = $ const. Therefore, you can just as well use $t$ directly in the linear regression function if you prefer, $\\mu_t=\\theta_0 + \\theta_1 t $."
      ]
    },
    {
      "cell_type": "markdown",
      "metadata": {
        "id": "giBYZYtRErRB",
        "colab_type": "text"
      },
      "source": [
        "**A3:**"
      ]
    },
    {
      "cell_type": "code",
      "metadata": {
        "id": "UWKvXDJFErRC",
        "colab_type": "code",
        "colab": {}
      },
      "source": [
        "x = seaLevelData['Year'].to_numpy().reshape((-1 ,1))\n",
        "y = seaLevelData['GMSL'].to_numpy()\n",
        "\n",
        "model_lm = lm.LinearRegression().fit(x , y)\n"
      ],
      "execution_count": 5,
      "outputs": []
    },
    {
      "cell_type": "code",
      "metadata": {
        "id": "NrLRHBzJzq36",
        "colab_type": "code",
        "colab": {
          "base_uri": "https://localhost:8080/",
          "height": 279
        },
        "outputId": "ca0e401c-3bf8-40f3-b0ea-28f982dd8167"
      },
      "source": [
        "theta0 = model_lm.intercept_\n",
        "theta1 = model_lm.coef_\n",
        "Y_Pred = model_lm.predict(x)\n",
        "\n",
        "plt.plot(seaLevelData['Year'] ,  seaLevelData['GMSL'] , label = \"Original Data\")\n",
        "plt.plot(x, Y_Pred, color='red' , label = \"Fitted Line\")\n",
        "plt.xlabel(\"Time\")\n",
        "plt.ylabel(\"GMSL\")\n",
        "plt.legend()\n",
        "plt.show()"
      ],
      "execution_count": 6,
      "outputs": [
        {
          "output_type": "display_data",
          "data": {
            "image/png": "[encoded data removed]",
            "text/plain": [
              "<Figure size 432x288 with 1 Axes>"
            ]
          },
          "metadata": {
            "tags": [],
            "needs_background": "light"
          }
        }
      ]
    },
    {
      "cell_type": "code",
      "metadata": {
        "id": "5wygtMpM5agW",
        "colab_type": "code",
        "colab": {
          "base_uri": "https://localhost:8080/",
          "height": 308
        },
        "outputId": "ec9a5d08-cf62-4f0f-fb13-c5d61e791b92"
      },
      "source": [
        "detrededData = y - Y_Pred\n",
        "\n",
        "plt.plot(x, Y_Pred, color='red' , label = \"Fitted Line\")\n",
        "plt.plot(x, detrededData, color='blue' , label = \"Detrended Data\")\n",
        "plt.xlabel(\"Time\")\n",
        "plt.ylabel(\"GMSL\")\n",
        "plt.suptitle(\"Detrended Data GMSL Vs Time\")\n",
        "plt.legend()\n",
        "plt.show()"
      ],
      "execution_count": 7,
      "outputs": [
        {
          "output_type": "display_data",
          "data": {
            "image/png": "[encoded data removed]",
            "text/plain": [
              "<Figure size 432x288 with 1 Axes>"
            ]
          },
          "metadata": {
            "tags": [],
            "needs_background": "light"
          }
        }
      ]
    },
    {
      "cell_type": "markdown",
      "metadata": {
        "id": "kGkNfjYkErRE",
        "colab_type": "text"
      },
      "source": [
        "**Q4:** Split the (detrended) time series into training and validation sets. Use the values from the beginning up to the 700th time point (i.e. $y_t$ for $t=1$ to $t=700$) as your training data, and the rest of the values as your validation data. Plot the two data sets.\n",
        "\n",
        "_Note:_ In the above, we have allowed ourselves to use all the available data (train + validation) when detrending. An alternative would be to use only the training data also when detrending the model. The latter approach is more suitable if, either:\n",
        "* we view the linear detrending as part of the model choice. Perhaps we wish to compare different polynomial trend models, and evaluate their performance on the validation data, or\n",
        "* we wish to use the second chunk of observations to estimate the performance of the final model on unseen data (in that case it is often referred to as \"test data\" instead of \"validation data\"), in which case we should not use these observations when fitting the model, including the detrending step.\n",
        "\n",
        "In this laboration we consider the linear detrending as a predetermined preprocessing step and therefore allow ourselves to use the validation data when computing the linear trend."
      ]
    },
    {
      "cell_type": "markdown",
      "metadata": {
        "id": "YMJ6aI9yErRF",
        "colab_type": "text"
      },
      "source": [
        "**A4:**"
      ]
    },
    {
      "cell_type": "code",
      "metadata": {
        "id": "MQLQZFJA-Qd7",
        "colab_type": "code",
        "colab": {}
      },
      "source": [
        "trainDataY = detrededData[0:700 , ]\n",
        "ValidDataY = detrededData[700: , ]\n",
        "\n",
        "trainDataX = seaLevelData['Year'][0:700]\n",
        "ValidDataX = seaLevelData['Year'][700:]"
      ],
      "execution_count": 8,
      "outputs": []
    },
    {
      "cell_type": "code",
      "metadata": {
        "id": "y_3Y4bauBnXx",
        "colab_type": "code",
        "colab": {
          "base_uri": "https://localhost:8080/",
          "height": 599
        },
        "outputId": "ea2ce2c4-ddfb-401b-f7ea-44b26ef4cb03"
      },
      "source": [
        "plt.plot(trainDataX, trainDataY, color='blue')\n",
        "plt.xlabel(\"Time\")\n",
        "plt.ylabel(\"GMSL\")\n",
        "plt.suptitle(\"Training Data\")\n",
        "plt.show()\n",
        "\n",
        "\n",
        "plt.plot(ValidDataX, ValidDataY, color='blue')\n",
        "plt.xlabel(\"Time\")\n",
        "plt.ylabel(\"GMSL\")\n",
        "plt.suptitle(\"Validation Data\")\n",
        "plt.show()\n"
      ],
      "execution_count": 9,
      "outputs": [
        {
          "output_type": "display_data",
          "data": {
            "image/png": "[encoded data removed]",
            "text/plain": [
              "<Figure size 432x288 with 1 Axes>"
            ]
          },
          "metadata": {
            "tags": [],
            "needs_background": "light"
          }
        },
        {
          "output_type": "display_data",
          "data": {
            "image/png": "[encoded data removed]",
            "text/plain": [
              "<Figure size 432x288 with 1 Axes>"
            ]
          },
          "metadata": {
            "tags": [],
            "needs_background": "light"
          }
        }
      ]
    },
    {
      "cell_type": "markdown",
      "metadata": {
        "id": "LAmWJX5xErRI",
        "colab_type": "text"
      },
      "source": [
        "## 1.2 Fit an autoregressive model\n",
        "We will now fit an AR$(p)$ model to the training data for a given value of the model order $p$."
      ]
    },
    {
      "cell_type": "markdown",
      "metadata": {
        "id": "u1SuDZBdErRI",
        "colab_type": "text"
      },
      "source": [
        "**Q5**: Create a function that fits an AR$(p)$ model for an arbitrary value of p. Use this function to fit a model of order $p=10$ to the training data and write out (or plot) the coefficients.\n",
        "\n",
        "_Hint:_ Since fitting an AR model is essentially just a standard linear regression we can make use of `lm.LinearRegression().fit(...)` similarly to above. You may use the template below and simply fill in the missing code."
      ]
    },
    {
      "cell_type": "markdown",
      "metadata": {
        "id": "tMnsdGyqErRJ",
        "colab_type": "text"
      },
      "source": [
        "**A5:**"
      ]
    },
    {
      "cell_type": "code",
      "metadata": {
        "id": "S-qCfq0hErRK",
        "colab_type": "code",
        "colab": {}
      },
      "source": [
        "def fit_ar(y, p):\n",
        "    \"\"\"\n",
        "    Fits an AR(p) model. The loss function is the sum of squared errors from t=p+1 to t=n.\n",
        "\n",
        "    :param y: array (n,), training data points\n",
        "    :param p: int, AR model order\n",
        "    :return theta: array (p,), learnt AR coefficients\n",
        "    \"\"\"\n",
        "\n",
        "    # Number of training data points\n",
        "    n = y.shape[0]\n",
        "    #print(n)\n",
        "    # Construct the regression matrix\n",
        "    Phi = np.zeros((n-p,p), dtype= int)\n",
        "\n",
        "    #print(\"phi\")\n",
        "    #print(Phi)\n",
        "    #print(Phi.shape)\n",
        "    for j in range(p):\n",
        "        Phi[:,j] = y[p-j:n-j]    # <COMPLETE THIS LINE>\n",
        "    \n",
        "    # Drop the first p values from the target vector y\n",
        "    yy = y[p:]  # yy = (y_{t+p+1}, ..., y_n)\n",
        "\n",
        "    #print(\"yy\")\n",
        "    print(yy.shape)\n",
        "\n",
        "    # Here we use fit_intercept=False since we do not want to include an intercept term in the AR model\n",
        "    regr = lm.LinearRegression(fit_intercept=False)\n",
        "    regr.fit(Phi,yy)    \n",
        "\n",
        "    return regr.coef_"
      ],
      "execution_count": 23,
      "outputs": []
    },
    {
      "cell_type": "code",
      "metadata": {
        "id": "jmoGoqqAErRN",
        "colab_type": "code",
        "colab": {
          "base_uri": "https://localhost:8080/",
          "height": 85
        },
        "outputId": "0e8df002-9e9d-4ce6-8af8-7f78b74c03c2"
      },
      "source": [
        "y = trainDataY\n",
        "p = 10\n",
        "\n",
        "testFitReturn = fit_ar(y , p)\n",
        "\n",
        "print(testFitReturn)"
      ],
      "execution_count": 24,
      "outputs": [
        {
          "output_type": "stream",
          "text": [
            "(690,)\n",
            "[ 1.04858020e+00  1.03995740e-02  6.87624028e-03  6.22803308e-03\n",
            "  5.70699995e-03  6.59110282e-03 -2.70953833e-03 -9.16897128e-03\n",
            "  6.66092353e-04 -7.84066761e-03]\n"
          ],
          "name": "stdout"
        }
      ]
    },
    {
      "cell_type": "markdown",
      "metadata": {
        "id": "dJf7E2vtErRQ",
        "colab_type": "text"
      },
      "source": [
        "**Q6:** Next, write a function that computes the one-step-ahead prediction of your fitted model. 'One-step-ahead' here means that in order to predict $y_t$ at $t=t_0$, we use the actual values of $y_t$ for $t<t_0$ from the data. Use your function to compute the predictions for both *training data* and *validation data*. Plot the predictions together with the data (you can plot both training and validation data in the same figure). Also plot the *residuals*.\n",
        "\n",
        "_Hint:_ It is enought to call the predict function once, for both training and validation data at the same time."
      ]
    },
    {
      "cell_type": "markdown",
      "metadata": {
        "id": "LUq3ZMfBErRQ",
        "colab_type": "text"
      },
      "source": [
        "**A6:**"
      ]
    },
    {
      "cell_type": "code",
      "metadata": {
        "id": "-jSTOmS2ErRR",
        "colab_type": "code",
        "colab": {}
      },
      "source": [
        "def predict_ar_1step(theta, y_target):\n",
        "    \"\"\"Predicts the value y_t for t = p+1, ..., n, for an AR(p) model, based on the data in y_target using\n",
        "    one-step-ahead prediction.\n",
        "\n",
        "    :param theta: array (p,), AR coefficients, theta=(a1,a2,...,ap).\n",
        "    :param y_target: array (n,), the data points used to compute the predictions.\n",
        "    :return y_pred: array (n-p,), the one-step predictions (\\hat y_{p+1}, ...., \\hat y_n) \n",
        "    \"\"\"\n",
        "\n",
        "    n = len(y_target)\n",
        "    p = len(theta)\n",
        "    \n",
        "    # Number of steps in prediction\n",
        "    m = n-p\n",
        "    y_pred = np.zeros(m)\n",
        "    \n",
        "    for i in range(m):\n",
        "        # <COMPLETE THIS CODE BLOCK>\n",
        "        if i == 1:\n",
        "          y_pred[i] = y_target[-p:] * theta\n",
        "        else:  \n",
        "          y_pred[i] = np.append(y_target[-(p-(i-1)):] , y_pred[i-1]) * theta\n",
        "        \n",
        "    return y_pred"
      ],
      "execution_count": 21,
      "outputs": []
    },
    {
      "cell_type": "code",
      "metadata": {
        "id": "AExrsahiErRT",
        "colab_type": "code",
        "colab": {
          "base_uri": "https://localhost:8080/",
          "height": 282
        },
        "outputId": "c982b322-8826-4cf0-fd97-6d668378063d"
      },
      "source": [
        "fnTests = predict_ar_1step(theta = testFitReturn , y_target = trainDataY)"
      ],
      "execution_count": 22,
      "outputs": [
        {
          "output_type": "error",
          "ename": "ValueError",
          "evalue": "ignored",
          "traceback": [
            "\u001b[0;31m---------------------------------------------------------------------------\u001b[0m",
            "\u001b[0;31mValueError\u001b[0m                                Traceback (most recent call last)",
            "\u001b[0;32m<ipython-input-22-68c34f7874ee>\u001b[0m in \u001b[0;36m<module>\u001b[0;34m()\u001b[0m\n\u001b[0;32m----> 1\u001b[0;31m \u001b[0mfnTests\u001b[0m \u001b[0;34m=\u001b[0m \u001b[0mpredict_ar_1step\u001b[0m\u001b[0;34m(\u001b[0m\u001b[0mtheta\u001b[0m \u001b[0;34m=\u001b[0m \u001b[0mtestFitReturn\u001b[0m \u001b[0;34m,\u001b[0m \u001b[0my_target\u001b[0m \u001b[0;34m=\u001b[0m \u001b[0mtrainDataY\u001b[0m\u001b[0;34m)\u001b[0m\u001b[0;34m\u001b[0m\u001b[0;34m\u001b[0m\u001b[0m\n\u001b[0m",
            "\u001b[0;32m<ipython-input-21-ea687f0f9179>\u001b[0m in \u001b[0;36mpredict_ar_1step\u001b[0;34m(theta, y_target)\u001b[0m\n\u001b[1;32m     20\u001b[0m           \u001b[0my_pred\u001b[0m\u001b[0;34m[\u001b[0m\u001b[0mi\u001b[0m\u001b[0;34m]\u001b[0m \u001b[0;34m=\u001b[0m \u001b[0my_target\u001b[0m\u001b[0;34m[\u001b[0m\u001b[0;34m-\u001b[0m\u001b[0mp\u001b[0m\u001b[0;34m:\u001b[0m\u001b[0;34m]\u001b[0m \u001b[0;34m*\u001b[0m \u001b[0mtheta\u001b[0m\u001b[0;34m\u001b[0m\u001b[0;34m\u001b[0m\u001b[0m\n\u001b[1;32m     21\u001b[0m         \u001b[0;32melse\u001b[0m\u001b[0;34m:\u001b[0m\u001b[0;34m\u001b[0m\u001b[0;34m\u001b[0m\u001b[0m\n\u001b[0;32m---> 22\u001b[0;31m           \u001b[0my_pred\u001b[0m\u001b[0;34m[\u001b[0m\u001b[0mi\u001b[0m\u001b[0;34m]\u001b[0m \u001b[0;34m=\u001b[0m \u001b[0mnp\u001b[0m\u001b[0;34m.\u001b[0m\u001b[0mappend\u001b[0m\u001b[0;34m(\u001b[0m\u001b[0my_target\u001b[0m\u001b[0;34m[\u001b[0m\u001b[0;34m-\u001b[0m\u001b[0;34m(\u001b[0m\u001b[0mp\u001b[0m\u001b[0;34m-\u001b[0m\u001b[0;34m(\u001b[0m\u001b[0mi\u001b[0m\u001b[0;34m-\u001b[0m\u001b[0;36m1\u001b[0m\u001b[0;34m)\u001b[0m\u001b[0;34m)\u001b[0m\u001b[0;34m:\u001b[0m\u001b[0;34m]\u001b[0m \u001b[0;34m,\u001b[0m \u001b[0my_pred\u001b[0m\u001b[0;34m[\u001b[0m\u001b[0mi\u001b[0m\u001b[0;34m-\u001b[0m\u001b[0;36m1\u001b[0m\u001b[0;34m]\u001b[0m\u001b[0;34m)\u001b[0m \u001b[0;34m*\u001b[0m \u001b[0mtheta\u001b[0m\u001b[0;34m\u001b[0m\u001b[0;34m\u001b[0m\u001b[0m\n\u001b[0m\u001b[1;32m     23\u001b[0m \u001b[0;34m\u001b[0m\u001b[0m\n\u001b[1;32m     24\u001b[0m     \u001b[0;32mreturn\u001b[0m \u001b[0my_pred\u001b[0m\u001b[0;34m\u001b[0m\u001b[0;34m\u001b[0m\u001b[0m\n",
            "\u001b[0;31mValueError\u001b[0m: operands could not be broadcast together with shapes (12,) (10,) "
          ]
        }
      ]
    },
    {
      "cell_type": "markdown",
      "metadata": {
        "id": "x7BNFHqiErRW",
        "colab_type": "text"
      },
      "source": [
        "**Q7:** Compute and plot the autocorrelation function (ACF) of the *residuals* only for the *validation data*. What conclusions can you draw from the ACF plot?\n",
        "\n",
        "_Hint:_ You can use the function `acfplot` from the `tssltools` module, available on the course web page."
      ]
    },
    {
      "cell_type": "markdown",
      "metadata": {
        "id": "cob2ifTFErRW",
        "colab_type": "text"
      },
      "source": [
        "**A7:**"
      ]
    },
    {
      "cell_type": "code",
      "metadata": {
        "id": "iy4aY2WNErRX",
        "colab_type": "code",
        "colab": {},
        "outputId": "56d386ff-a246-48c0-935b-595385598f9c"
      },
      "source": [
        "help(acfplot)"
      ],
      "execution_count": null,
      "outputs": [
        {
          "output_type": "stream",
          "text": [
            "Help on function acfplot in module tssltools_lab1:\n",
            "\n",
            "acfplot(x, lags=None, conf=0.95)\n",
            "    Plots the empirical autocorralation function.\n",
            "    \n",
            "    :param x: array (n,), sequence of data points\n",
            "    :param lags: int, maximum lag to compute the ACF for. If None, this is set to n. Default is None.\n",
            "    :param conf: float, number in the interval [0,1] which specifies the confidence level (based on a central limit\n",
            "                 theorem under a white noise assumption) for two dashed lines drawn in the plot. Default is 0.95.\n",
            "    :return:\n",
            "\n"
          ],
          "name": "stdout"
        }
      ]
    },
    {
      "cell_type": "markdown",
      "metadata": {
        "id": "P0tdL2kyErRa",
        "colab_type": "text"
      },
      "source": [
        ""
      ]
    },
    {
      "cell_type": "markdown",
      "metadata": {
        "id": "u1KHOlgJErRa",
        "colab_type": "text"
      },
      "source": [
        "## 1.3 Model validation and order selection\n",
        "Above we set the model order $p=10$ quite arbitrarily. In this section we will try to find an appropriate order by validation."
      ]
    },
    {
      "cell_type": "markdown",
      "metadata": {
        "id": "SUNB-NkEErRb",
        "colab_type": "text"
      },
      "source": [
        "**Q8**: Write a loop in which AR-models of orders from $p=2$ to $p=150$ are fitted to the data above. Plot the training and validation mean-squared errors for the one-step-ahead predictions versus the model order.\n",
        "\n",
        "Based on your results:\n",
        "- What is the main difference between the changes in training error and validation error as the order increases? \n",
        "- Based on these results, which model order would you suggest to use and why?\n",
        "\n",
        "_Note:_ There is no obvious \"correct answer\" to the second question, but you still need to pick an order an motivate your choice!\n"
      ]
    },
    {
      "cell_type": "markdown",
      "metadata": {
        "id": "donhDrK7ErRc",
        "colab_type": "text"
      },
      "source": [
        "**A8:**"
      ]
    },
    {
      "cell_type": "code",
      "metadata": {
        "id": "6XzM5CjyErRd",
        "colab_type": "code",
        "colab": {}
      },
      "source": [
        ""
      ],
      "execution_count": null,
      "outputs": []
    },
    {
      "cell_type": "markdown",
      "metadata": {
        "id": "saS8_YfCErRf",
        "colab_type": "text"
      },
      "source": [
        ""
      ]
    },
    {
      "cell_type": "markdown",
      "metadata": {
        "id": "3O9lJC8-ErRf",
        "colab_type": "text"
      },
      "source": [
        "**Q9:** Based on the chosen model order, compute the residuals of the one-step-ahead predictions on the *validation data*. Plot the autocorrelation function of the residuals. What conclusions can you draw? Compare to the ACF plot generated above for p=10."
      ]
    },
    {
      "cell_type": "code",
      "metadata": {
        "id": "t9Jru5UcErRg",
        "colab_type": "code",
        "colab": {}
      },
      "source": [
        ""
      ],
      "execution_count": null,
      "outputs": []
    },
    {
      "cell_type": "markdown",
      "metadata": {
        "id": "rw2Vfd2HErRi",
        "colab_type": "text"
      },
      "source": [
        ""
      ]
    },
    {
      "cell_type": "markdown",
      "metadata": {
        "id": "S1m9bdUUErRi",
        "colab_type": "text"
      },
      "source": [
        "## 1.4 Long-range predictions\n",
        "So far we have only considered one-step-ahead predictions. However, in many practical applications it is of interest to use the model to predict further into the future. For intance, for the sea level data studied in this laboration, it is more interesting to predict the level one year from now, and not just 10 days ahead (10 days = 1 time step in this data)."
      ]
    },
    {
      "cell_type": "markdown",
      "metadata": {
        "id": "G690TScuErRj",
        "colab_type": "text"
      },
      "source": [
        "**Q10**: \n",
        "Write a function that simulates the value of an AR($p$) model $m$ steps into the future, conditionally on an initial sequence of data points. Specifically, given $y_{1:n}$ with $n\\geq p$ the function/code should predict the values\n",
        "\n",
        "\\begin{align}\n",
        "    \\hat y_{t|n} &= \\mathbb{E}[y_{t} | y_{1:n}], & t&=n+1,\\dots,n+m.\n",
        "\\end{align}\n",
        "\n",
        "Use this to predict the values for the validation data ($y_{701:997}$) conditionally on the training data ($y_{1:700}$) and plot the result.\n",
        "\n",
        "_Hint:_ Use the pseudo-code derived at the first pen-and-paper session."
      ]
    },
    {
      "cell_type": "markdown",
      "metadata": {
        "id": "JbdcH0SLErRj",
        "colab_type": "text"
      },
      "source": [
        "**A10:**"
      ]
    },
    {
      "cell_type": "code",
      "metadata": {
        "id": "vMfMgGfGErRk",
        "colab_type": "code",
        "colab": {}
      },
      "source": [
        "def simulate_ar(y, theta, m):\n",
        "    \"\"\"Simulates an AR(p) model for m steps, with initial condition given by the last p values of y\n",
        "    \n",
        "    :param y: array (n,) with n>=p. The last p values are used to initialize the simulation.\n",
        "    :param theta: array (p,). AR model parameters,\n",
        "    :param m: int, number of time steps to simulate the model for.\n",
        "    \"\"\"\n",
        "\n",
        "    p = len(theta)    \n",
        "    y_sim = np.zeros(m)\n",
        "    phi = np.flip(y[-p:].copy()) # (y_{n-1}, ..., y_{n-p})^T - note that y[ntrain-1] is the last training data point\n",
        "\n",
        "    for i in range(m):\n",
        "        y_sim[i] = ... # <COMPLETE THIS LINE>\n",
        "        # <COMPLETE THIS CODE BLOCK>\n",
        "    \n",
        "    return y_sim\n",
        "    "
      ],
      "execution_count": null,
      "outputs": []
    },
    {
      "cell_type": "code",
      "metadata": {
        "id": "8rTIl0J3ErRm",
        "colab_type": "code",
        "colab": {}
      },
      "source": [
        ""
      ],
      "execution_count": null,
      "outputs": []
    },
    {
      "cell_type": "markdown",
      "metadata": {
        "id": "WsqlDALrErRp",
        "colab_type": "text"
      },
      "source": [
        "**Q11:** Using the same function as above, try to simulate the process for a large number of time steps (say, $m=2000$). You should see that the predicted values eventually converge to a constant prediction of zero. Is this something that you would expect to see in general? Explain the result."
      ]
    },
    {
      "cell_type": "markdown",
      "metadata": {
        "id": "tHUmMXVIErRp",
        "colab_type": "text"
      },
      "source": [
        "**A11:**"
      ]
    },
    {
      "cell_type": "code",
      "metadata": {
        "id": "aIJ6CjGJErRq",
        "colab_type": "code",
        "colab": {}
      },
      "source": [
        ""
      ],
      "execution_count": null,
      "outputs": []
    },
    {
      "cell_type": "markdown",
      "metadata": {
        "id": "v5xiBWd_ErRs",
        "colab_type": "text"
      },
      "source": [
        "## 1.5 Nonlinear AR model\n",
        " In this part, we switch to a nonlinear autoregressive (NAR) model, which is based on a feedforward neural network. This means that in this model the recursive equation for making predictions is still in the form $\\hat y_t=f_\\theta(y_{t-1},...,y_{t-p})$, but this time $f$ is a nonlinear function learned by the neural network. Fortunately almost all of the work for implementing the neural network and training it is handled by the `scikit-learn` package with a few lines of code, and we just need to choose the right structure, and prepare the input-output data.   "
      ]
    },
    {
      "cell_type": "markdown",
      "metadata": {
        "id": "3MUVTnoYErRt",
        "colab_type": "text"
      },
      "source": [
        "**Q12**: Construct a NAR($p$) model with a feedforward (MLP) network, by using the `MLPRegressor` class from `scikit-learn`. Set $p$ to the same value as you chose for the linear AR model above. Initially, you can use an MLP with a single hidden layer consisting of 10 hidden neurons. \n",
        "Train it using the same training data as above and plot the one-step-ahead predictions as well as the residuals, on both the training and validation data. \n",
        "\n",
        "_Hint:_ You will need the methods `fit` and `predict` of `MLPRegressor`. Read the user guide of `scikit-learn` for more details. Recall that a NAR model is conceptuall very similar to an AR model, so you can reuse part of the code from above."
      ]
    },
    {
      "cell_type": "markdown",
      "metadata": {
        "id": "w9Zja4k1ErRt",
        "colab_type": "text"
      },
      "source": [
        "**A12:**"
      ]
    },
    {
      "cell_type": "code",
      "metadata": {
        "id": "gc9bupBKErRt",
        "colab_type": "code",
        "colab": {}
      },
      "source": [
        ""
      ],
      "execution_count": null,
      "outputs": []
    },
    {
      "cell_type": "code",
      "metadata": {
        "id": "YrOrg1CYErRw",
        "colab_type": "code",
        "colab": {}
      },
      "source": [
        ""
      ],
      "execution_count": null,
      "outputs": []
    },
    {
      "cell_type": "markdown",
      "metadata": {
        "id": "igKMHVBqErRy",
        "colab_type": "text"
      },
      "source": [
        "**Q13:** Try to expirement with different choices for the hyperparameters of the network (e.g. number of hidden layers and units per layer, activation function, etc.) and the optimizer (e.g. `solver` and `max_iter`).\n",
        "\n",
        "Are you satisfied with the results? Why/why not? Discuss what the limitations of this approach might be."
      ]
    },
    {
      "cell_type": "markdown",
      "metadata": {
        "id": "piTtk6IKErRy",
        "colab_type": "text"
      },
      "source": [
        "**A13:**"
      ]
    },
    {
      "cell_type": "code",
      "metadata": {
        "id": "lNJM0_rRErRy",
        "colab_type": "code",
        "colab": {}
      },
      "source": [
        ""
      ],
      "execution_count": null,
      "outputs": []
    },
    {
      "cell_type": "code",
      "metadata": {
        "id": "Qsf-eVfVErR1",
        "colab_type": "code",
        "colab": {}
      },
      "source": [
        ""
      ],
      "execution_count": null,
      "outputs": []
    }
  ]
}