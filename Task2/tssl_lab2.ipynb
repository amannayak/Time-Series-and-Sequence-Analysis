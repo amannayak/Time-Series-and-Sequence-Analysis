{
  "nbformat": 4,
  "nbformat_minor": 0,
  "metadata": {
    "kernelspec": {
      "display_name": "Python 3",
      "language": "python",
      "name": "python3"
    },
    "language_info": {
      "codemirror_mode": {
        "name": "ipython",
        "version": 3
      },
      "file_extension": ".py",
      "mimetype": "text/x-python",
      "name": "python",
      "nbconvert_exporter": "python",
      "pygments_lexer": "ipython3",
      "version": "3.8.5"
    },
    "colab": {
      "name": "tssl_lab2.ipynb",
      "provenance": [],
      "toc_visible": true
    }
  },
  "cells": [
    {
      "cell_type": "markdown",
      "metadata": {
        "id": "azIf7MfiLCIw"
      },
      "source": [
        "# TSSL Lab 2 - Structural model, Kalman filtering and EM\n",
        "We will continue to work with the Global Mean Sea Level (GMSL) data that we got acquainted with in lab 1. The data is taken from https://climate.nasa.gov/vital-signs/sea-level/ and is available on LISAM in the file `sealevel.csv`.\n",
        "\n",
        "In this lab we will analyse this data using a structural time series model. We will first set up a model and implement a Kalman filter to infer the latet states of the model, as well doing long-term prediction. We will then implement a disturbance smoother and an expectation maximization algorithm to tune the parameters of the model. "
      ]
    },
    {
      "cell_type": "markdown",
      "metadata": {
        "id": "fcUMMIWILCIx"
      },
      "source": [
        "We load a few packages that are useful for solving this lab assignment."
      ]
    },
    {
      "cell_type": "code",
      "metadata": {
        "id": "98ED8NEnLCIy"
      },
      "source": [
        "import pandas  # Loading data / handling data frames\n",
        "import numpy as np\n",
        "import scipy\n",
        "from scipy import  linalg\n",
        "import matplotlib.pyplot as plt\n",
        "plt.rcParams[\"figure.figsize\"] = (12,8)  # Increase default size of plots"
      ],
      "execution_count": 1,
      "outputs": []
    },
    {
      "cell_type": "markdown",
      "metadata": {
        "id": "af-M_BDTLCI4"
      },
      "source": [
        "## 2.1 Setting up a structural state space model"
      ]
    },
    {
      "cell_type": "markdown",
      "metadata": {
        "id": "BaDE2trJLCI5"
      },
      "source": [
        "We start by loading and plotting data to remind ourselves what it looks like."
      ]
    },
    {
      "cell_type": "code",
      "metadata": {
        "id": "eAZEd-PsLCI6"
      },
      "source": [
        "data=pandas.read_csv('sealevel.csv',header=0)"
      ],
      "execution_count": 2,
      "outputs": []
    },
    {
      "cell_type": "code",
      "metadata": {
        "id": "G-aVRTfdLCI-",
        "outputId": "ed474d3a-7fce-4976-c44b-fe3f0c66af94",
        "colab": {
          "base_uri": "https://localhost:8080/",
          "height": 279
        }
      },
      "source": [
        "y = data['GMSL'].values\n",
        "u = data['Year'].values\n",
        "ndata = len(y)\n",
        "plt.plot(u,y)\n",
        "plt.xlabel('Year')\n",
        "plt.ylabel('GMSL deviation (mm)')\n",
        "plt.show()"
      ],
      "execution_count": 3,
      "outputs": [
        {
          "output_type": "display_data",
          "data": {
            "image/png": "[encoded data removed]",
            "text/plain": [
              "<Figure size 432x288 with 1 Axes>"
            ]
          },
          "metadata": {
            "tags": [],
            "needs_background": "light"
          }
        }
      ]
    },
    {
      "cell_type": "markdown",
      "metadata": {
        "id": "8WDcJK5HLCJD"
      },
      "source": [
        "In this lab we will use a structural time series model to analys this data set. Specifically, we assume that the data $\\{y_t\\}_{t\\geq 1}$ is generated by\n",
        "\n",
        "\\begin{align}\n",
        "    y_t = \\mu_t + \\gamma_t + \\varepsilon_t\n",
        "\\end{align}\n",
        "\n",
        "where $\\mu_t$ is a trend component, $\\gamma_t$ is a seasonal component, and $\\varepsilon_t$ is an observation noise. The model is expressed using a state space representation,\n",
        "\n",
        "\\begin{align}\n",
        "    \\alpha_{t+1} &= T \\alpha_t + R\\eta_t, & \\eta_t&\\sim N(0,Q), \\\\\n",
        "    y_t &= Z \\alpha_t + \\varepsilon_t, & \\varepsilon_t&\\sim N(0,\\sigma_\\varepsilon^2).\n",
        "\\end{align}"
      ]
    },
    {
      "cell_type": "markdown",
      "metadata": {
        "id": "Ft5AQtWyLCJD"
      },
      "source": [
        "**Q0:** Let $d = \\dim(\\alpha_t)$ denote the _state dimension_ and $d_\\eta = \\dim(\\eta_t)$ denote the dimension of the state noise. Then, what are the dimenisons of the matrices $T$, $R$, and $Z$ of the state space model?"
      ]
    },
    {
      "cell_type": "markdown",
      "metadata": {
        "id": "nWAdtDvnLCJE"
      },
      "source": [
        "**A:**\n",
        "\n",
        "Dimensions is given as  Row * Column and it is given that d = dim($\\alpha_{t}$) and $d_\\eta = \\dim(\\eta_t)$\n",
        "\n",
        "T = d * d\n",
        "\n",
        "R = $d_\\eta$ * 2\n",
        "\n",
        "Z = 1 * d\n"
      ]
    },
    {
      "cell_type": "markdown",
      "metadata": {
        "id": "Qq8qMd6hLCJF"
      },
      "source": [
        "**Q1:** Create the state space matrices $T_{[\\mu]}$, $R_{[\\mu]}$, and $Z_{[\\mu]}$ corresponding to the trend component $\\mu_t$. We assume a local linear trend (that is, of order $k=2$). \n",
        "\n",
        "_Hint:_ Use **2-dimensional** `numpy.ndarray`s of the correct sizes to represent all the matrices."
      ]
    },
    {
      "cell_type": "code",
      "metadata": {
        "id": "kZmV3Lu1LCJG"
      },
      "source": [
        "T_mu = np.array([[2,-1],[1,0]])\n",
        "R_mu = np.array([[1],[0]])\n",
        "Z_mu = np.array([[1 ,0 ]])"
      ],
      "execution_count": 4,
      "outputs": []
    },
    {
      "cell_type": "code",
      "metadata": {
        "id": "rnlLokayQDER",
        "outputId": "39a145ce-502e-4f81-b168-4582c0546538",
        "colab": {
          "base_uri": "https://localhost:8080/",
          "height": 68
        }
      },
      "source": [
        "print(T_mu.shape)\n",
        "print(R_mu.shape)\n",
        "print(Z_mu.shape)"
      ],
      "execution_count": 5,
      "outputs": [
        {
          "output_type": "stream",
          "text": [
            "(2, 2)\n",
            "(2, 1)\n",
            "(1, 2)\n"
          ],
          "name": "stdout"
        }
      ]
    },
    {
      "cell_type": "markdown",
      "metadata": {
        "id": "NgQmqYOQLCJK"
      },
      "source": [
        "**Q2:** There is a yearly seasonal pattern present in the data. What should we set the periodicity $s$ of the seasonal component to, to capture this pattern?\n",
        "\n",
        "_Hint:_ Count the average number of observations per (whole) year and round to the closest integer."
      ]
    },
    {
      "cell_type": "code",
      "metadata": {
        "id": "SRrOgWWSZQLV",
        "outputId": "455487a8-ba0c-4550-d218-01a10fcb9e00",
        "colab": {
          "base_uri": "https://localhost:8080/",
          "height": 34
        }
      },
      "source": [
        "#s = 37 manual check\n",
        "#coverting sample to year unit only\n",
        "sampleYearly = u.astype(int)\n",
        "unique_elements, counts_elements = np.unique(sampleYearly, return_counts=True)\n",
        "#because of presence of last year count is decreasing by 1 so removing it as avg value is coming as 36 while without that it is 37 so going ahead with 37\n",
        "#s = round(np.mean(np.delete(counts_elements , -1)))\n",
        "s = round(np.mean(counts_elements))\n",
        "# Removed assumptions \n",
        "print(f\"Average number of observations per (whole) year and round to the closest integer is {s}\")\n",
        "# print(f\"Year   : {unique_elements}\")\n",
        "# print(f\"count per year : {counts_elements} \")\n",
        "# print( f\"avg of count {s}\")"
      ],
      "execution_count": 6,
      "outputs": [
        {
          "output_type": "stream",
          "text": [
            "Average number of observations per (whole) year and round to the closest integer is 36.0\n"
          ],
          "name": "stdout"
        }
      ]
    },
    {
      "cell_type": "markdown",
      "metadata": {
        "id": "CbcNLTRRLCJQ"
      },
      "source": [
        "\n",
        "\n",
        "**Q3:** What is the _state dimension_ of a seasonal component with periodicity $s$? That is, how many states are needed in the corresponding state space representation?"
      ]
    },
    {
      "cell_type": "markdown",
      "metadata": {
        "id": "1ENtlDj6LCJR"
      },
      "source": [
        "**A:** For S as 36 seasonal component, state dimension will be S-1 * S-1 i.e 35*35\n"
      ]
    },
    {
      "cell_type": "markdown",
      "metadata": {
        "id": "Cyss-X_sLCJT"
      },
      "source": [
        "**Q4:** Create the state space matrices $T_{[\\gamma]}$, $R_{[\\gamma]}$, and $Z_{[\\gamma]}$ corresponding to the seasonal component $\\gamma_t$. \n",
        "\n",
        "_Hint:_ Use **2-dimensional** `numpy.ndarray`s of the correct sizes to represent all the matrices."
      ]
    },
    {
      "cell_type": "code",
      "metadata": {
        "id": "iskEl0SZLCJU"
      },
      "source": [
        "T_gamma = -1 * np.ones((1,35) , dtype=int)\n",
        "T_gamma = np.append(T_gamma , np.append(np.identity(34) , np.zeros((34 ,1)) , axis = 1 ) , axis= 0)\n",
        "R_gamma = np.zeros((35,1) , dtype= int)\n",
        "R_gamma[0,0] = 1\n",
        "Z_gamma = np.zeros((1,35) , dtype = int)\n",
        "Z_gamma[0,0] = 1 "
      ],
      "execution_count": 7,
      "outputs": []
    },
    {
      "cell_type": "code",
      "metadata": {
        "id": "9SpW2f3bTA8v",
        "outputId": "b94e8c41-7ba3-4b08-981c-b98503e70401",
        "colab": {
          "base_uri": "https://localhost:8080/",
          "height": 68
        }
      },
      "source": [
        "print(T_gamma.shape)\n",
        "print(R_gamma.shape)\n",
        "print(Z_gamma.shape)"
      ],
      "execution_count": 8,
      "outputs": [
        {
          "output_type": "stream",
          "text": [
            "(35, 35)\n",
            "(35, 1)\n",
            "(1, 35)\n"
          ],
          "name": "stdout"
        }
      ]
    },
    {
      "cell_type": "markdown",
      "metadata": {
        "id": "62stagJ_LCJY"
      },
      "source": [
        "**Q5:** Using the matrices that you have constructed above, create the state space matrices for the complete structural time series model. Print out the shapes of the resulting system matrices and check that they correspond to what you expect (cf **Q0**).\n",
        "\n",
        "_Hint:_ Use `scipy.linalg.block_diag` and `numpy.concatenate`."
      ]
    },
    {
      "cell_type": "code",
      "metadata": {
        "id": "G7AyubBRLCJZ"
      },
      "source": [
        "T = scipy.linalg.block_diag(T_mu , T_gamma)\n",
        "R = scipy.linalg.block_diag(R_mu , R_gamma)\n",
        "Z = np.concatenate((Z_mu , Z_gamma) , axis = 1 )"
      ],
      "execution_count": 9,
      "outputs": []
    },
    {
      "cell_type": "code",
      "metadata": {
        "scrolled": true,
        "id": "VMOM5dDWLCJd",
        "outputId": "25526c90-8ab4-451e-d08e-bb40339231c2",
        "colab": {
          "base_uri": "https://localhost:8080/",
          "height": 68
        }
      },
      "source": [
        "print(f\"Shape for T is {T.shape}\")\n",
        "print(f\"Shape for R is {R.shape}\")\n",
        "print(f\"Shape for Z is {Z.shape}\")"
      ],
      "execution_count": 10,
      "outputs": [
        {
          "output_type": "stream",
          "text": [
            "Shape for T is (37, 37)\n",
            "Shape for R is (37, 2)\n",
            "Shape for Z is (1, 37)\n"
          ],
          "name": "stdout"
        }
      ]
    },
    {
      "cell_type": "code",
      "metadata": {
        "id": "2TQrx7ipyBzY"
      },
      "source": [
        "#Z"
      ],
      "execution_count": 11,
      "outputs": []
    },
    {
      "cell_type": "markdown",
      "metadata": {
        "id": "2Tah30FeeDrW"
      },
      "source": [
        "Looking at above shape we can say that they corresponds to Q0 as "
      ]
    },
    {
      "cell_type": "markdown",
      "metadata": {
        "id": "1rkR6D5HLCJj"
      },
      "source": [
        "We also need to specify the variances of the process noise $\\eta_t$ and measurement noise $\\varepsilon_t$. Below, we will estimate (two of) these variances from data, but for now we set them arbitrarily to get an initial model to work with."
      ]
    },
    {
      "cell_type": "code",
      "metadata": {
        "id": "2_Krp0wNLCJk"
      },
      "source": [
        "# Some arbitrary noise values for now\n",
        "sigma_trend = 0.01\n",
        "sigma_seas = 1\n",
        "sigma_eps = 1\n",
        "Q = np.array([[sigma_trend**2, 0.], [0., sigma_seas**2]])  # Process noise covariance matrix"
      ],
      "execution_count": 12,
      "outputs": []
    },
    {
      "cell_type": "markdown",
      "metadata": {
        "id": "DPQkIidoLCJz"
      },
      "source": [
        "Finally, to complete the model we need to specify the distribution of the initial state. This encodes our _a priori_ belief about the actual values of the trend and seasonality, i.e., before observing any data."
      ]
    },
    {
      "cell_type": "markdown",
      "metadata": {
        "id": "h5Ff7NCfLCJ1"
      },
      "source": [
        "**Q6:** Set up the mean vector of the initial state $a_1 = \\mathbb{E}[\\alpha_1]$ such that:\n",
        "* The trend component starts at the first observation, $\\mathbb{E}[\\mu_1] = y_1$,\n",
        "* The slope of the trend is _a priori_ zero in expectation, $\\mathbb{E}[\\mu_1 - \\mu_0] = 0$,\n",
        "* The initial mean of all states related to the seasonal component are zero.\n",
        "\n",
        "Also, create an initial state covariance matrix $P_1 = \\text{Cov}(\\alpha_1)$ as an identity matrix of the correct dimension, multiplied with a large value (say, 100) to represent our uncertainty about the initial state."
      ]
    },
    {
      "cell_type": "code",
      "metadata": {
        "id": "jNjgaeeuLCJ4"
      },
      "source": [
        "# a1 = y[0,]\n",
        "# a1 = np.append(a1.reshape(1,1) , np.zeros((36,1)) , axis=0)"
      ],
      "execution_count": 13,
      "outputs": []
    },
    {
      "cell_type": "code",
      "metadata": {
        "id": "hS1DZUy3vV1y"
      },
      "source": [
        "a1 = np.zeros(37).reshape(37,1)\n",
        "a1[0] = y[0] "
      ],
      "execution_count": 14,
      "outputs": []
    },
    {
      "cell_type": "code",
      "metadata": {
        "id": "WdKR9zZWx9YL"
      },
      "source": [
        "P1 = 100 * np.identity(n = 37)"
      ],
      "execution_count": 15,
      "outputs": []
    },
    {
      "cell_type": "code",
      "metadata": {
        "id": "s561YUQJzP91",
        "outputId": "172fffa7-364f-4abd-f6c3-d7ff777e78ad",
        "colab": {
          "base_uri": "https://localhost:8080/",
          "height": 34
        }
      },
      "source": [
        "P1.shape"
      ],
      "execution_count": 16,
      "outputs": [
        {
          "output_type": "execute_result",
          "data": {
            "text/plain": [
              "(37, 37)"
            ]
          },
          "metadata": {
            "tags": []
          },
          "execution_count": 16
        }
      ]
    },
    {
      "cell_type": "markdown",
      "metadata": {
        "id": "CwV4NMGPLCKF"
      },
      "source": [
        "We have now defined all the matrices etc. that make up the structural state space model. For convenience, we can create an object of the class `LGSS` available in the module `tssltools_lab2` as a container for these quantities."
      ]
    },
    {
      "cell_type": "code",
      "metadata": {
        "id": "KdEorCF0LCKG",
        "outputId": "64d639ca-151c-416d-8f19-a2eafdf416f6",
        "colab": {
          "base_uri": "https://localhost:8080/",
          "height": 136
        }
      },
      "source": [
        "from tssltools_lab2 import LGSS  # Module available in LISAM\n",
        "model = LGSS(T, R, Q, Z, sigma_eps**2, a1, P1)\n",
        "\n",
        "help(model.get_params)"
      ],
      "execution_count": 17,
      "outputs": [
        {
          "output_type": "stream",
          "text": [
            "Help on method get_params in module tssltools_lab2:\n",
            "\n",
            "get_params() method of tssltools_lab2.LGSS instance\n",
            "    Return all model parameters.\n",
            "    \n",
            "    T, R, Q, Z, H, a1, P1 = model.get_params()\n",
            "\n"
          ],
          "name": "stdout"
        }
      ]
    },
    {
      "cell_type": "markdown",
      "metadata": {
        "id": "CJSb_kzRLCKP"
      },
      "source": [
        "## 2.2 Kalman filtering for the structural model\n",
        "Now we have the data and a model available. Next, we will turn our attention to the inference problem, which is a central task when analysing time series data using the state space framework.\n",
        "\n",
        "State inference is the problem of estimating the unknown (latent) state variables given the data. For the time being we assume that the _model parameters_ are completely specified, according to above, and only consider how to estimate the states using the Kalman filter.\n",
        "\n",
        "In the questions below we will treat the first $n=800$ time steps as training data and the remaining $m=197$ observations as validation data. "
      ]
    },
    {
      "cell_type": "code",
      "metadata": {
        "id": "6vdPD_5iLCKR"
      },
      "source": [
        "n = 800\n",
        "m = ndata-n"
      ],
      "execution_count": 18,
      "outputs": []
    },
    {
      "cell_type": "markdown",
      "metadata": {
        "id": "pFYqKnCWLCKZ"
      },
      "source": [
        "\n",
        "**Q7:** Complete the Kalman filter implementation below. The function should be able to handle missing observations, which are encoded as \"not a number\", i.e. `y[t] = np.nan` for certain time steps `t`. \n",
        "\n",
        "_Hint:_ The Kalman filter involves a lot of matrix-matrix and matrix-vector multiplications. It turns out to be convient to store sequences of vectors (such as the predicted and filtered state estimates) as `(d,1,n)` arrays, instead of `(d,n)` or `(n,d)` arrays. In this way the matrix multiplications will result in 2d-arrays of the correct shapes without having to use a lot of explicit `reshape`. However, clearly, this is just a matter of coding style preferences!"
      ]
    },
    {
      "cell_type": "code",
      "metadata": {
        "id": "HC8mJFiKLCKb"
      },
      "source": [
        "from tssltools_lab2 import kfs_res  # Module available in LISAM. kfs_res is a container class for storing the result.\n",
        "\n",
        "def kalman_filter(y, model: LGSS):\n",
        "    \"\"\"Kalman filter for LGSS model with one-dimensional observation.\n",
        "\n",
        "    :param y: (n,) array of observations. May contain nan, which encodes missing observations.\n",
        "    :param model: LGSS object with the model specification.\n",
        "    \n",
        "    :return kfs_res: Container class with member variables,\n",
        "        alpha_pred: (d,1,n) array of predicted state means.\n",
        "        P_pred: (d,d,n) array of predicted state covariances.\n",
        "        alpha_filt: (d,1,n) array of filtered state means.\n",
        "        P_filt: (d,d,n) array of filtered state covariances.\n",
        "        y_pred: (n,) array of means of p(y_t | y_{1:t-1})\n",
        "        F_pred: (n,) array of variances of p(y_t | y_{1:t-1})\n",
        "    \"\"\"\n",
        "\n",
        "    n = len(y)\n",
        "    d = model.d  # State dimension\n",
        "    alpha_pred = np.zeros((d, 1, n))\n",
        "    P_pred = np.zeros((d, d, n))\n",
        "    alpha_filt = np.zeros((d, 1, n))\n",
        "    P_filt = np.zeros((d, d, n)) #renamed \n",
        "    y_pred = np.zeros(n)\n",
        "    F_pred = np.zeros(n)\n",
        "    \n",
        "    #print(alpha_filt.shape)\n",
        "\n",
        "    T, R, Q, Z, H, a1, P1 = model.get_params()  # Get all model parameters (for brevity)\n",
        "\n",
        "    for t in range(n):\n",
        "        # Time update (predict)\n",
        "        if t == 0:  # Initialize predictions at first time step\n",
        "            alpha_pred[:,:,t] = a1\n",
        "            P_pred[:,:,t] = P1\n",
        "        else:  # All consecutive time steps\n",
        "            #@ > dot product\n",
        "            alpha_pred[:,:,t] = T @ alpha_filt[:,:,(t-1)] \n",
        "            #alpha_pred[:,:,t] = alpha_filt[:,:,(t-1)] \n",
        "            P_pred[:,:,t] = (T @ P_filt[:,:,(t-1)]) @ np.transpose(T) + R @ Q @ np.transpose(R)\n",
        "        # Compute prediction of current output\n",
        "        y_pred[t] = Z @ alpha_pred[:,:,t]\n",
        "        F_pred[t] = ((Z @ P_pred[:,:,t]) @ np.transpose(Z)) +  H\n",
        "        #F_pred[t] = Z @ P_pred[:,:,t] @ np.transpose(Z) \n",
        "\n",
        "        # Measurement update (correct)\n",
        "        if np.isnan(y[t]):  # Handle missing data\n",
        "          alpha_filt[:,:,t] = alpha_pred[:,:,t]\n",
        "          P_filt[:,:,t] = P_pred[:,:,t]           \n",
        "        else:\n",
        "          K_Gain = (P_pred[:,:,t] @ np.transpose(Z))/F_pred[t] \n",
        "          alpha_filt[:,:,t] = alpha_pred[:,:,t] + (K_Gain * (y[t] - y_pred[t]))\n",
        "          #print(alpha_filt.shape)\n",
        "          P_filt[:,:,t] = (np.identity(d) - (K_Gain @ Z)) @ P_pred[:,:,t]\n",
        "\n",
        "    # Container for storing all results\n",
        "    kf = kfs_res(alpha_pred, P_pred, alpha_filt, P_filt, y_pred, F_pred)\n",
        "    return kf"
      ],
      "execution_count": 19,
      "outputs": []
    },
    {
      "cell_type": "markdown",
      "metadata": {
        "id": "15XxtUDuLCKh"
      },
      "source": [
        "**Q8:** Use the Kalman filter to infer the states of the structural time series applied to the sealevel data. Run the filter on the training data (i.e., first $n=700$ time steps), followed by a long-range prediction of $y_t$ for the remaining time points. \n",
        "\n",
        "Generate a plot which shows:\n",
        "1. The data $y_{1:n+m}$,\n",
        "2. The one-step predictions $\\hat y_{t|t-1} \\pm 1 $ standard deviation for the training data, i.e., $t = 1,...,n$,\n",
        "3. The long-range predictions $\\hat y_{t|n} \\pm 1 $ standard deviation for the validation data, i.e., $t= n+1,...,n+m$,\n",
        "4. A vertical line indicating the switch between training and validation data, using, e.g., `plt.axvline(x=u[n])`.\n",
        "\n",
        "_Hint:_ It is enough to call the `kalman_filter` function once. Make use of the missing data functionality!"
      ]
    },
    {
      "cell_type": "code",
      "metadata": {
        "scrolled": false,
        "id": "KaIcrflELCKi"
      },
      "source": [
        "#it looks like we have some issue with n consideration as in Q7 it is asked to use 800 while in Q8 it is asked to use 700 \n",
        "#Going with Q7 way with n as 800 datapoints \n",
        "n = 800\n",
        "m = ndata-n\n",
        "yTrain = y.copy()\n",
        "#implemented such that for we can use it for long range prediction(i.e. adding Nan for future values) \n",
        "yTrain[801:] = np.nan\n",
        "kf = kalman_filter(yTrain , model)\n",
        "\n",
        "sd1 = kf.y_pred - np.sqrt(kf.F_pred)\n",
        "sd2 = kf.y_pred + np.sqrt(kf.F_pred)"
      ],
      "execution_count": 20,
      "outputs": []
    },
    {
      "cell_type": "code",
      "metadata": {
        "id": "wHiORF8m0OOL",
        "outputId": "517e171b-bfc3-4ebd-a3ac-44f9db02ecb0",
        "colab": {
          "base_uri": "https://localhost:8080/",
          "height": 279
        }
      },
      "source": [
        "#Data Plot \n",
        "plt.plot(u,y ,label = \"Original Data\")\n",
        "plt.plot(u , kf.y_pred , label = \"Kalman Pred\")\n",
        "#plt.scatter(u , sd1 , label = \"Standard Deviation\" , color = \"green\")\n",
        "#plt.scatter(u , sd2 , label = \"Standard Deviation\" , color = \"green\")\n",
        "plt.plot(u , sd1 , label = \"Standard Deviation\" , color = \"green\")\n",
        "plt.plot(u , sd2 , label = \"Standard Deviation\" , color = \"green\")\n",
        "plt.axvline(x=u[n])\n",
        "plt.xlabel(\"Time\")\n",
        "plt.ylabel(\"GMSL\")\n",
        "plt.legend()\n",
        "plt.show()"
      ],
      "execution_count": 21,
      "outputs": [
        {
          "output_type": "display_data",
          "data": {
            "image/png": "[encoded data removed]",
            "text/plain": [
              "<Figure size 432x288 with 1 Axes>"
            ]
          },
          "metadata": {
            "tags": [],
            "needs_background": "light"
          }
        }
      ]
    },
    {
      "cell_type": "markdown",
      "metadata": {
        "id": "zzDpM903LCKx"
      },
      "source": [
        "**Q9:** Based on the output of the Kalman filter, compute the training data log-likelihood $\\log p(y_{1:n})$."
      ]
    },
    {
      "cell_type": "code",
      "metadata": {
        "id": "nIR1ZnumLCKy",
        "outputId": "a74daead-8bfa-4d21-af67-e94d0bf53234",
        "colab": {
          "base_uri": "https://localhost:8080/",
          "height": 34
        }
      },
      "source": [
        "logLikLi = (-1/2)*(np.sum(np.log(np.absolute(kf.F_pred[:801,])) + (np.transpose(yTrain[:801,] - kf.y_pred[:801,]) / kf.F_pred[:801,]) @ (yTrain[:801,] - kf.y_pred[:801,])))\n",
        "print(f\"Log-Likelihood for Training Data is {logLikLi}\")"
      ],
      "execution_count": 22,
      "outputs": [
        {
          "output_type": "stream",
          "text": [
            "Log-Likelihood for Training Data is -2085686.7746347892\n"
          ],
          "name": "stdout"
        }
      ]
    },
    {
      "cell_type": "markdown",
      "metadata": {
        "id": "Q_mOSD4DLCK3"
      },
      "source": [
        "## 2.3 Identifying the noise variances using the EM algorithm\n",
        "So far we have used fixed model parameters when running the filter. In this section we will see how the model parameters can be learnt from data using the EM algorithm. Specifically, we will try to learn the variance of the state noise affecting the seasonal component as well as the variance of the observation noise,\n",
        "\n",
        "\\begin{align}\n",
        "    \\theta = (\\sigma_\\gamma^2, \\sigma_\\varepsilon^2).\n",
        "\\end{align}\n",
        "\n",
        "For brevity, the variance of the trend component $\\sigma_\\mu^2$ is fixed to the value $\\sigma_\\mu^2 = 0.01^2$ as above. (See Appendix A below for an explanation.)\n",
        "\n",
        "Recall that we consider $y_{1:n}$ as the training data, i.e., we will estimate $\\theta$ using only the first $n=800$ observations."
      ]
    },
    {
      "cell_type": "markdown",
      "metadata": {
        "id": "T4d589fxLCK4"
      },
      "source": [
        "**Q10:** Which optimization problem is it that the EM algorithm is designed to solve? Complete the line below!"
      ]
    },
    {
      "cell_type": "markdown",
      "metadata": {
        "id": "m6_UpiB4LCK4"
      },
      "source": [
        "**A:** $\\hat\\theta = \\arg\\max_{\\theta} Q(\\theta | \\theta_{t}$)"
      ]
    },
    {
      "cell_type": "markdown",
      "metadata": {
        "id": "PpGrQuxCLCK5"
      },
      "source": [
        "**Q11:** Write down the updating equations on closed form for the M-step in the EM algorithm.\n",
        "\n",
        "_Hint: Look at Exercise Session 2_"
      ]
    },
    {
      "cell_type": "markdown",
      "metadata": {
        "id": "h71Qq2WiLCK6"
      },
      "source": [
        "**A:**\n",
        "\n"
      ]
    },
    {
      "cell_type": "markdown",
      "metadata": {
        "id": "7obkMODsLCK7"
      },
      "source": [
        "To implement the EM algorithm we need to solve a _smoothing problem_. The Kalman filter that we implemented above is based only on a forward propagation of information. The _smoother_ complements the forward filter with a backward pass to compute refined state estimates. Specifically, the smoothed state estimates comprise the mean and covariances of\n",
        "\n",
        "\\begin{align}\n",
        "    &p(\\alpha_t \\mid y_{1:n}), & t=&1,\\dots,n\n",
        "\\end{align}\n",
        "\n",
        "Furthermore, when implementing the EM algorithm it is convenient to work with the (closely related) smoothed estimates of the disturbances, i.e., the state and measurement noise,\n",
        "\n",
        "\\begin{align}\n",
        "    &p(\\eta_t \\mid y_{1:n}), & t=&1,\\dots,n-1 \\\\\n",
        "    &p(\\varepsilon_t \\mid y_{1:n}), & t=&1,\\dots,n\n",
        "\\end{align}\n",
        "\n",
        "An implementation of a state and disturbance smoother is available in the `tssltools_lab2` module. You may use this when implementing the EM algorithm below.\n"
      ]
    },
    {
      "cell_type": "code",
      "metadata": {
        "id": "I9AfR_8kLCK7",
        "outputId": "b9939022-ffb7-4158-b22b-241f0e258054",
        "colab": {
          "base_uri": "https://localhost:8080/",
          "height": 306
        }
      },
      "source": [
        "from tssltools_lab2 import kalman_smoother\n",
        "help(kalman_smoother)"
      ],
      "execution_count": 23,
      "outputs": [
        {
          "output_type": "stream",
          "text": [
            "Help on function kalman_smoother in module tssltools_lab2:\n",
            "\n",
            "kalman_smoother(y, model:tssltools_lab2.LGSS, kf:tssltools_lab2.kfs_res)\n",
            "    Kalman (state and disturbance) smoother for LGSS model with one-dimensional observation.\n",
            "    \n",
            "    :param y: (n,) array of observations. May contain nan, which encodes missing observations.\n",
            "    :param model: LGSS object with the model specification.\n",
            "    :parma kf: kfs_res object with result from a Kalman filter foward pass.\n",
            "    \n",
            "    :return kfs_res: Container class. The original Kalman filter result is augmented with the following member variables,\n",
            "        alpha_sm: (d,1,n) array of smoothed state means.\n",
            "        V: (d,d,n) array of smoothed state covariances.\n",
            "        eps_hat: (n,) array of smoothed means of observation disturbances.\n",
            "        eps_var: (n,) array of smoothed variances of observation disturbances.\n",
            "        eta_hat: (deta,1,n) array of smoothed means of state disturbances.\n",
            "        eta_cov: (deta,deta,n) array of smoothed covariances of state disturbances.\n",
            "\n"
          ],
          "name": "stdout"
        }
      ]
    },
    {
      "cell_type": "markdown",
      "metadata": {
        "id": "LB6lz9GYLCK_"
      },
      "source": [
        "**Q12:** Implement an EM algorithm by completing the code below. Run the algorithm for 100 iterations and plot the traces of the parameter estimates, i.e., the values $\\theta_r$, for $r = 0,\\dots,100$.\n",
        "\n",
        "_Note:_ When running the Kalman filter as part of the EM loop you should only filter the _training data_ (i.e. excluding the prediction for validation data).\n"
      ]
    },
    {
      "cell_type": "code",
      "metadata": {
        "id": "wNBjFvlwLCLA",
        "outputId": "754b3046-bb95-41d5-bf65-c132f6468e38",
        "colab": {
          "base_uri": "https://localhost:8080/",
          "height": 1000
        }
      },
      "source": [
        "num_iter = 100\n",
        "yTrain = y.copy()\n",
        "yTrain = yTrain[:801]\n",
        "# Some arbitrary noise values for now\n",
        "sigma_trend = 0.01\n",
        "sigma_seas = 1\n",
        "sigma_eps = 1\n",
        "Q = np.array([[sigma_trend**2, 0.], [0., sigma_seas**2]])  # Process noise covariance matrix\n",
        "\n",
        "def compute_theta(ks):\n",
        "    \"\"\"Implements the M-step of the EM-algorithm, based on the Kalman smoother results (ks). See Q11.\"\"\"\n",
        "    n = len(ks.eps_hat)\n",
        "    sigma_epsilon2  = (1/n) * np.sum(ks.eps_hat**2 + ks.eps_var) #observation \n",
        "    #sigma_neta2 = (1/(n-1)) * np.sum(ks.eta_hat**2 - ks.eta_cov) #seasonal \n",
        "    \n",
        "    dt = 0\n",
        "    \n",
        "    for t in range(n):\n",
        "      t_Mat = (ks.eta_hat[:,:,t] @  ks.eta_hat[:,:,t].T + ks.eta_cov[:,:,t])  \n",
        "      dt = dt + t_Mat[1,1]\n",
        "    sigma_neta2 = (1/n) * dt\n",
        "    theta_new = (sigma_epsilon2 , sigma_neta2)\n",
        "    return theta_new\n",
        "\n",
        "\n",
        "minChange = 0.01 #custom threshold set, could be changed based on expected diff \n",
        "logLikeLi = [] \n",
        "sigma_eps_Arr = []\n",
        "sigma_seas_Arr = []\n",
        "#Q = np.array([[sigma_trend**2, 0.], [0., sigma_seas**2]])  # Process noise covariance matrix #from above\n",
        "\n",
        "sigma_eps2 = 1**2\n",
        "\n",
        "#changing r to 0 in-order to python indexing \n",
        "for r in range(0,num_iter):\n",
        "    print(f\"Number of iteration is : {r}\")\n",
        "    # E-step\n",
        "    model = LGSS(T, R , Q, Z , sigma_eps2 , a1 , P1) #model Parameter\n",
        "    kf = kalman_filter(yTrain , model)#Call Kalman filter with updated model \n",
        "    ks = kalman_smoother(yTrain, model, kf)\n",
        "    \n",
        "    #calculating log likelihood while ignoring constant as it is same accross all \n",
        "        \n",
        "    \n",
        "    logLikeLi.append((-1/2)*(np.sum(np.log(np.abs(kf.F_pred)) + (yTrain - kf.y_pred)**2 / kf.F_pred)))\n",
        "    \n",
        "    if r > 0:\n",
        "      if (abs(logLikeLi[r] - logLikeLi[(r-1)]) > minChange):\n",
        "        print(f\"LogLikeLihood is {logLikeLi[r]}\")\n",
        "      else:\n",
        "        print(\"Min change does not occur thus converging and loop break is applied\")\n",
        "        break;\n",
        "    \n",
        "    # M-step\n",
        "    sigma_eps2 , sigma_seas2 = compute_theta(ks)\n",
        "    sigma_eps_Arr.append(np.sqrt(sigma_eps2))\n",
        "    sigma_seas_Arr.append(np.sqrt(sigma_seas2))\n",
        "    Q = np.array([[sigma_trend**2, 0.], [0., sigma_seas2]])\n",
        "    "
      ],
      "execution_count": 24,
      "outputs": [
        {
          "output_type": "stream",
          "text": [
            "Number of iteration is : 0\n",
            "Number of iteration is : 1\n",
            "LogLikeLihood is -1866.8309059076453\n",
            "Number of iteration is : 2\n",
            "LogLikeLihood is -1737.1008966208346\n",
            "Number of iteration is : 3\n",
            "LogLikeLihood is -1705.5712890569646\n",
            "Number of iteration is : 4\n",
            "LogLikeLihood is -1693.6708986444391\n",
            "Number of iteration is : 5\n",
            "LogLikeLihood is -1686.6694873942026\n",
            "Number of iteration is : 6\n",
            "LogLikeLihood is -1681.1852264737176\n",
            "Number of iteration is : 7\n",
            "LogLikeLihood is -1676.4161295286615\n",
            "Number of iteration is : 8\n",
            "LogLikeLihood is -1672.1401988475586\n",
            "Number of iteration is : 9\n",
            "LogLikeLihood is -1668.2648409078197\n",
            "Number of iteration is : 10\n",
            "LogLikeLihood is -1664.7316664581126\n",
            "Number of iteration is : 11\n",
            "LogLikeLihood is -1661.4961324673172\n",
            "Number of iteration is : 12\n",
            "LogLikeLihood is -1658.5220925431386\n",
            "Number of iteration is : 13\n",
            "LogLikeLihood is -1655.7795117158917\n",
            "Number of iteration is : 14\n",
            "LogLikeLihood is -1653.2430877948818\n",
            "Number of iteration is : 15\n",
            "LogLikeLihood is -1650.8912800822036\n",
            "Number of iteration is : 16\n",
            "LogLikeLihood is -1648.7055856072982\n",
            "Number of iteration is : 17\n",
            "LogLikeLihood is -1646.669985593203\n",
            "Number of iteration is : 18\n",
            "LogLikeLihood is -1644.7705149168219\n",
            "Number of iteration is : 19\n",
            "LogLikeLihood is -1642.9949227213378\n",
            "Number of iteration is : 20\n",
            "LogLikeLihood is -1641.3324017506982\n",
            "Number of iteration is : 21\n",
            "LogLikeLihood is -1639.7733702059081\n",
            "Number of iteration is : 22\n",
            "LogLikeLihood is -1638.3092942185172\n",
            "Number of iteration is : 23\n",
            "LogLikeLihood is -1636.932542070822\n",
            "Number of iteration is : 24\n",
            "LogLikeLihood is -1635.6362634759316\n",
            "Number of iteration is : 25\n",
            "LogLikeLihood is -1634.4142888217982\n",
            "Number of iteration is : 26\n",
            "LogLikeLihood is -1633.2610444590969\n",
            "Number of iteration is : 27\n",
            "LogLikeLihood is -1632.1714809890707\n",
            "Number of iteration is : 28\n",
            "LogLikeLihood is -1631.141012167675\n",
            "Number of iteration is : 29\n",
            "LogLikeLihood is -1630.1654625446358\n",
            "Number of iteration is : 30\n",
            "LogLikeLihood is -1629.2410223401075\n",
            "Number of iteration is : 31\n",
            "LogLikeLihood is -1628.3642083589943\n",
            "Number of iteration is : 32\n",
            "LogLikeLihood is -1627.5318299741548\n",
            "Number of iteration is : 33\n",
            "LogLikeLihood is -1626.740959390622\n",
            "Number of iteration is : 34\n",
            "LogLikeLihood is -1625.988905546466\n",
            "Number of iteration is : 35\n",
            "LogLikeLihood is -1625.2731911189207\n",
            "Number of iteration is : 36\n",
            "LogLikeLihood is -1624.5915321959878\n",
            "Number of iteration is : 37\n",
            "LogLikeLihood is -1623.9418202463671\n",
            "Number of iteration is : 38\n",
            "LogLikeLihood is -1623.3221060799156\n",
            "Number of iteration is : 39\n",
            "LogLikeLihood is -1622.730585539519\n",
            "Number of iteration is : 40\n",
            "LogLikeLihood is -1622.1655867042268\n",
            "Number of iteration is : 41\n",
            "LogLikeLihood is -1621.6255584166215\n",
            "Number of iteration is : 42\n",
            "LogLikeLihood is -1621.1090599742745\n",
            "Number of iteration is : 43\n",
            "LogLikeLihood is -1620.6147518477114\n",
            "Number of iteration is : 44\n",
            "LogLikeLihood is -1620.141387306021\n",
            "Number of iteration is : 45\n",
            "LogLikeLihood is -1619.6878048476037\n",
            "Number of iteration is : 46\n",
            "LogLikeLihood is -1619.2529213464259\n",
            "Number of iteration is : 47\n",
            "LogLikeLihood is -1618.8357258361204\n",
            "Number of iteration is : 48\n",
            "LogLikeLihood is -1618.4352738634138\n",
            "Number of iteration is : 49\n",
            "LogLikeLihood is -1618.0506823515466\n",
            "Number of iteration is : 50\n",
            "LogLikeLihood is -1617.6811249204864\n",
            "Number of iteration is : 51\n",
            "LogLikeLihood is -1617.3258276180336\n",
            "Number of iteration is : 52\n",
            "LogLikeLihood is -1616.9840650203664\n",
            "Number of iteration is : 53\n",
            "LogLikeLihood is -1616.6551566657492\n",
            "Number of iteration is : 54\n",
            "LogLikeLihood is -1616.3384637891636\n",
            "Number of iteration is : 55\n",
            "LogLikeLihood is -1616.033386328767\n",
            "Number of iteration is : 56\n",
            "LogLikeLihood is -1615.7393601789618\n",
            "Number of iteration is : 57\n",
            "LogLikeLihood is -1615.4558546665437\n",
            "Number of iteration is : 58\n",
            "LogLikeLihood is -1615.1823702299414\n",
            "Number of iteration is : 59\n",
            "LogLikeLihood is -1614.9184362827227\n",
            "Number of iteration is : 60\n",
            "LogLikeLihood is -1614.66360924502\n",
            "Number of iteration is : 61\n",
            "LogLikeLihood is -1614.417470727909\n",
            "Number of iteration is : 62\n",
            "LogLikeLihood is -1614.179625857425\n",
            "Number of iteration is : 63\n",
            "LogLikeLihood is -1613.9497017259837\n",
            "Number of iteration is : 64\n",
            "LogLikeLihood is -1613.7273459603666\n",
            "Number of iteration is : 65\n",
            "LogLikeLihood is -1613.5122253964896\n",
            "Number of iteration is : 66\n",
            "LogLikeLihood is -1613.3040248517893\n",
            "Number of iteration is : 67\n",
            "LogLikeLihood is -1613.1024459873001\n",
            "Number of iteration is : 68\n",
            "LogLikeLihood is -1612.9072062520027\n",
            "Number of iteration is : 69\n",
            "LogLikeLihood is -1612.718037902721\n",
            "Number of iteration is : 70\n",
            "LogLikeLihood is -1612.534687093556\n",
            "Number of iteration is : 71\n",
            "LogLikeLihood is -1612.3569130292942\n",
            "Number of iteration is : 72\n",
            "LogLikeLihood is -1612.1844871776377\n",
            "Number of iteration is : 73\n",
            "LogLikeLihood is -1612.0171925358984\n",
            "Number of iteration is : 74\n",
            "LogLikeLihood is -1611.8548229477094\n",
            "Number of iteration is : 75\n",
            "LogLikeLihood is -1611.6971824659572\n",
            "Number of iteration is : 76\n",
            "LogLikeLihood is -1611.5440847585412\n",
            "Number of iteration is : 77\n",
            "LogLikeLihood is -1611.3953525536604\n",
            "Number of iteration is : 78\n",
            "LogLikeLihood is -1611.2508171216207\n",
            "Number of iteration is : 79\n",
            "LogLikeLihood is -1611.1103177905493\n",
            "Number of iteration is : 80\n",
            "LogLikeLihood is -1610.9737014934562\n",
            "Number of iteration is : 81\n",
            "LogLikeLihood is -1610.8408223444826\n",
            "Number of iteration is : 82\n",
            "LogLikeLihood is -1610.7115412420712\n",
            "Number of iteration is : 83\n",
            "LogLikeLihood is -1610.5857254972204\n",
            "Number of iteration is : 84\n",
            "LogLikeLihood is -1610.463248485114\n",
            "Number of iteration is : 85\n",
            "LogLikeLihood is -1610.3439893182465\n",
            "Number of iteration is : 86\n",
            "LogLikeLihood is -1610.2278325399295\n",
            "Number of iteration is : 87\n",
            "LogLikeLihood is -1610.1146678363139\n",
            "Number of iteration is : 88\n",
            "LogLikeLihood is -1610.0043897659975\n",
            "Number of iteration is : 89\n",
            "LogLikeLihood is -1609.896897505997\n",
            "Number of iteration is : 90\n",
            "LogLikeLihood is -1609.7920946126192\n",
            "Number of iteration is : 91\n",
            "LogLikeLihood is -1609.6898887968396\n",
            "Number of iteration is : 92\n",
            "LogLikeLihood is -1609.590191712637\n",
            "Number of iteration is : 93\n",
            "LogLikeLihood is -1609.4929187578161\n",
            "Number of iteration is : 94\n",
            "LogLikeLihood is -1609.3979888862357\n",
            "Number of iteration is : 95\n",
            "LogLikeLihood is -1609.3053244310327\n",
            "Number of iteration is : 96\n",
            "LogLikeLihood is -1609.2148509376677\n",
            "Number of iteration is : 97\n",
            "LogLikeLihood is -1609.1264970066754\n",
            "Number of iteration is : 98\n",
            "LogLikeLihood is -1609.0401941450857\n",
            "Number of iteration is : 99\n",
            "LogLikeLihood is -1608.9558766261744\n"
          ],
          "name": "stdout"
        }
      ]
    },
    {
      "cell_type": "code",
      "metadata": {
        "id": "i7C1iPkNP29H",
        "outputId": "ed63f34b-41d4-48ab-bcd5-737ed2aa0ee1",
        "colab": {
          "base_uri": "https://localhost:8080/",
          "height": 102
        }
      },
      "source": [
        "for t in range(5):\n",
        "  print((ks.eta_hat[:,:,t] @  ks.eta_hat[:,:,t].T + ks.eta_cov[:,:,t]).shape)  \n",
        "#ks.eta_cov.shape"
      ],
      "execution_count": 25,
      "outputs": [
        {
          "output_type": "stream",
          "text": [
            "(2, 2)\n",
            "(2, 2)\n",
            "(2, 2)\n",
            "(2, 2)\n",
            "(2, 2)\n"
          ],
          "name": "stdout"
        }
      ]
    },
    {
      "cell_type": "code",
      "metadata": {
        "id": "z-Rdcp93RYiu"
      },
      "source": [
        ""
      ],
      "execution_count": 25,
      "outputs": []
    },
    {
      "cell_type": "code",
      "metadata": {
        "id": "6qjM1GocLCLD",
        "outputId": "62460368-531e-4cc4-c067-2c87c9d75b3d",
        "colab": {
          "base_uri": "https://localhost:8080/",
          "height": 283
        }
      },
      "source": [
        "plt.plot(range(0,len(sigma_eps_Arr)) , (sigma_eps_Arr) , label = \"sigma_eps\")\n",
        "plt.plot(range(0,len(sigma_seas_Arr)) , (sigma_seas_Arr) , label = \"sigma_seas\")\n",
        "plt.xlabel(\"Index\")\n",
        "plt.ylabel(\"Q\")\n",
        "plt.legend()\n",
        "plt.show()"
      ],
      "execution_count": 26,
      "outputs": [
        {
          "output_type": "display_data",
          "data": {
            "image/png": "[encoded data removed]",
            "text/plain": [
              "<Figure size 432x288 with 1 Axes>"
            ]
          },
          "metadata": {
            "tags": [],
            "needs_background": "light"
          }
        }
      ]
    },
    {
      "cell_type": "code",
      "metadata": {
        "id": "j0sIxbSLyTDW",
        "outputId": "4324839c-6a6f-4048-8896-524966a90e77",
        "colab": {
          "base_uri": "https://localhost:8080/",
          "height": 279
        }
      },
      "source": [
        "#likelihood plot\n",
        "\n",
        "plt.plot(range(0,len(logLikeLi)) , logLikeLi , label = \"Loglikelihood\")\n",
        "plt.xlabel(\"Iteration\")\n",
        "plt.ylabel(\"Log Likelihood\")\n",
        "plt.legend()\n",
        "plt.show()"
      ],
      "execution_count": 27,
      "outputs": [
        {
          "output_type": "display_data",
          "data": {
            "image/png": "[encoded data removed]",
            "text/plain": [
              "<Figure size 432x288 with 1 Axes>"
            ]
          },
          "metadata": {
            "tags": [],
            "needs_background": "light"
          }
        }
      ]
    },
    {
      "cell_type": "markdown",
      "metadata": {
        "id": "UeyfjST_LCLH"
      },
      "source": [
        "## 2.4 Further analysing the data\n",
        "We will now fix the model according to the final output from the EM algorithm and further analyse the data using this model."
      ]
    },
    {
      "cell_type": "markdown",
      "metadata": {
        "id": "OCR0l60ALCLH"
      },
      "source": [
        "**Q13:** Rerun the Kalman filter to compute a _long range prediction for the validation data points,_ analogously to **Q8** (you can copy-paste code from that question). That is, generate a plot which shows:\n",
        "1. The data $y_{1:n+m}$,\n",
        "2. The one-step predictions $\\hat y_{t|t-1} \\pm 1 $ standard deviation for the training data, i.e., $t = 1,...,n$,\n",
        "3. The long-range predictions $\\hat y_{t|n} \\pm 1 $ standard deviation for the validation data, i.e., $t= n+1,...,n+m$,\n",
        "4. A vertical line indicating the switch between training and validation data, using, e.g., `plt.axvline(x=u[n])`.\n",
        "\n",
        "Furthermore, compute the training data log-likelihood $\\log p(y_{1:n})$ using the estimated model (cf. **Q9**)."
      ]
    },
    {
      "cell_type": "code",
      "metadata": {
        "id": "RHyKZb0fLCLI"
      },
      "source": [
        "#create model with new parameters \n",
        "#since last values will be used to direectly creating model with last Var values \n",
        "model = LGSS(T, R , Q, Z , sigma_eps2 , a1 , P1)\n",
        "n = 800\n",
        "m = ndata-n\n",
        "yTrain = y.copy()\n",
        "#implemented such that for we can use it for long range prediction(i.e. adding Nan for future values) \n",
        "yTrain[801:] = np.nan\n",
        "kf = kalman_filter(yTrain , model)\n",
        "\n",
        "sd1 = kf.y_pred - np.sqrt(kf.F_pred)\n",
        "sd2 = kf.y_pred + np.sqrt(kf.F_pred)\n"
      ],
      "execution_count": 28,
      "outputs": []
    },
    {
      "cell_type": "code",
      "metadata": {
        "id": "qzewFp8ELCLM",
        "outputId": "dd4d58db-b2a1-4bbc-e60b-98ae1d4ca049",
        "colab": {
          "base_uri": "https://localhost:8080/",
          "height": 279
        }
      },
      "source": [
        "#Data Plot \n",
        "plt.plot(u,y ,label = \"Original Data\")\n",
        "plt.plot(u , kf.y_pred , label = \"Kalman Pred with EM Parameter\")\n",
        "#plt.scatter(u , sd1 , label = \"Standard Deviation\" , color = \"green\")\n",
        "#plt.scatter(u , sd2 , label = \"Standard Deviation\" , color = \"green\")\n",
        "plt.plot(u , sd1 , label = \"Standard Deviation\" , color = \"green\")\n",
        "plt.plot(u , sd2 , label = \"Standard Deviation\" , color = \"green\")\n",
        "plt.axvline(x=u[n])\n",
        "plt.xlabel(\"Time\")\n",
        "plt.ylabel(\"GMSL\")\n",
        "plt.legend()\n",
        "plt.show()"
      ],
      "execution_count": 29,
      "outputs": [
        {
          "output_type": "display_data",
          "data": {
            "image/png": "[encoded data removed]",
            "text/plain": [
              "<Figure size 432x288 with 1 Axes>"
            ]
          },
          "metadata": {
            "tags": [],
            "needs_background": "light"
          }
        }
      ]
    },
    {
      "cell_type": "code",
      "metadata": {
        "id": "fWZzVpsR1ZLT",
        "outputId": "b69c568c-8cf3-45dc-eb23-c8575560ab5b",
        "colab": {
          "base_uri": "https://localhost:8080/",
          "height": 34
        }
      },
      "source": [
        "#Traning Data Log Likelihood\n",
        "logLikLi = (-1/2)*(np.sum(np.log(np.absolute(kf.F_pred[:801,])) + (np.transpose(yTrain[:801,] - kf.y_pred[:801,]) / kf.F_pred[:801,]) @ (yTrain[:801,] - kf.y_pred[:801,])))\n",
        "print(f\"Log-Likelihood for Training Data is {logLikLi}\")"
      ],
      "execution_count": 30,
      "outputs": [
        {
          "output_type": "stream",
          "text": [
            "Log-Likelihood for Training Data is -321273.72998611524\n"
          ],
          "name": "stdout"
        }
      ]
    },
    {
      "cell_type": "markdown",
      "metadata": {
        "id": "WLeLhoRTLCLQ"
      },
      "source": [
        "Note that we can view the model for the data $y_t$ as being comprised of an underlying \"signal\", $s_t = \\mu_t + \\gamma_t$ plus observation noise $\\varepsilon_t$\n",
        "\n",
        "\\begin{align}\n",
        "    y_t = s_t + \\varepsilon_t\n",
        "\\end{align}\n",
        "\n",
        "We can obtain refined, _smoothed,_ estimates of this signal by conditioning on all the training data $y_{1:n}$. "
      ]
    },
    {
      "cell_type": "markdown",
      "metadata": {
        "id": "dPg_9sdaLCLS"
      },
      "source": [
        "**Q14:** Run a Kalman smoother to compute smoothed estimates of the signal, $\\mathbb{E}[s_t | y_{1:n}]$, conditionally on all the _training data_. Then, similarly to above, plot the following:\n",
        "1. The data $y_{1:n+m}$,\n",
        "2. The smoothed estimates $\\mathbb{E}[s_t | y_{1:n}] \\pm 1 $ standard deviation for the training data, i.e., $t = 1,...,n$,\n",
        "3. The predictions $\\mathbb{E}[s_t | y_{1:n}] \\pm 1 $ standard deviation for the validation data, i.e., $t = n+1,...,n+m$,\n",
        "4. A vertical line indicating the switch between training and validation data, using, e.g., `plt.axvline(x=u[n])`.\n",
        "\n",
        "_Hint:_ Express $s_t$ in terms of $\\alpha_t$. Based on this expression, compute the smoothed mean and variance of $s_t$ based on the smoothed mean and covariance of $\\alpha_t$."
      ]
    },
    {
      "cell_type": "code",
      "metadata": {
        "id": "X-6Yp8t5LCLT"
      },
      "source": [
        "ksSE = kalman_smoother(yTrain , model , kf) "
      ],
      "execution_count": 31,
      "outputs": []
    },
    {
      "cell_type": "code",
      "metadata": {
        "id": "FYkN6YhP4i7_"
      },
      "source": [
        "#since s_t = z * alpha_sum \n",
        "\n",
        "n = len(yTrain)\n",
        "s_tMean = []\n",
        "s_tVar = []\n",
        "for t in range(0,n):\n",
        "  s_tMean.append(Z @ ksSE.alpha_sm[:,:,t])\n",
        "  s_tVar.append(((Z @ ksSE.V[:,:,t]) @ np.transpose(Z)) + sigma_eps)\n",
        "\n",
        "from pandas.core.common import flatten\n",
        "s_tMean = list(flatten(s_tMean))\n",
        "s_tVar = list(flatten(s_tVar))\n",
        "\n",
        "sd1KS = s_tMean - np.sqrt(s_tVar)\n",
        "sd2KS = s_tMean + np.sqrt(s_tVar)"
      ],
      "execution_count": 32,
      "outputs": []
    },
    {
      "cell_type": "code",
      "metadata": {
        "id": "jrDtrSqv5Eev",
        "outputId": "3e09d6f8-da80-432b-f69d-0e1f08fc0e5e",
        "colab": {
          "base_uri": "https://localhost:8080/",
          "height": 279
        }
      },
      "source": [
        "#Data Plot \n",
        "plt.plot(u,y ,label = \"Original Data\")\n",
        "plt.plot(u , s_tMean , label = \"Kalman Smoothing Mean\")\n",
        "plt.scatter(u , sd1KS , label = \"Standard Deviation\" , color = \"green\")\n",
        "plt.scatter(u , sd2KS , label = \"Standard Deviation\" , color = \"green\")\n",
        "plt.axvline(x=u[801])\n",
        "plt.xlabel(\"Time\")\n",
        "plt.ylabel(\"GMSL\")\n",
        "plt.legend()\n",
        "plt.show()"
      ],
      "execution_count": 33,
      "outputs": [
        {
          "output_type": "display_data",
          "data": {
            "image/png": "[encoded data removed]",
            "text/plain": [
              "<Figure size 432x288 with 1 Axes>"
            ]
          },
          "metadata": {
            "tags": [],
            "needs_background": "light"
          }
        }
      ]
    },
    {
      "cell_type": "markdown",
      "metadata": {
        "id": "YpVso7kSLCLW"
      },
      "source": [
        "**Q15:** Explain, using a few sentences, the qualitative differences (or similarities) between the Kalman filter predictions plotted in **Q13** and the smoothed signal estimates plotted in **Q14** for,\n",
        "1. Training data points, $t \\leq n$\n",
        "2. Validation data points, $t > n$"
      ]
    },
    {
      "cell_type": "markdown",
      "metadata": {
        "id": "gs9pyQGjLCLX"
      },
      "source": [
        "**A:**"
      ]
    },
    {
      "cell_type": "markdown",
      "metadata": {
        "id": "DNab_WYdLCLX"
      },
      "source": [
        "We can shed additional light on the properties of the process under study by further decomposing the signal into its trend and seasonal components."
      ]
    },
    {
      "cell_type": "markdown",
      "metadata": {
        "id": "dg3Qs7qfLCLY"
      },
      "source": [
        "**Q16:** Using the results of the state smoother, compute and plot the _smoothed estimates_ of the two signal components, i.e.:\n",
        "\n",
        "1. Trend: $\\hat \\mu_{t|n} = \\mathbb{E}[\\mu_t | y_{1:n}]$ for $t = 1,\\dots,n$\n",
        "2. Seasonal: $\\hat \\gamma_{t|n} = \\mathbb{E}[\\gamma_t | y_{1:n}]$ for $t = 1,\\dots,n$\n",
        "\n",
        "_(You don't have to include confidence intervals here if don't want to, for brevity.)_"
      ]
    },
    {
      "cell_type": "code",
      "metadata": {
        "id": "F_7yl7y6LCLZ"
      },
      "source": [
        ""
      ],
      "execution_count": 33,
      "outputs": []
    },
    {
      "cell_type": "markdown",
      "metadata": {
        "id": "kRrCAizMLCLc"
      },
      "source": [
        "## 2.5 Missing data\n",
        "We conclude this section by illustrating one of the key merits of the state space approach to time series analysis, namely the simplicity of handling missing data. To this end we will assume that a chunk of observations in the middle of the training data is missing."
      ]
    },
    {
      "cell_type": "markdown",
      "metadata": {
        "id": "ixqRdwbRLCLd"
      },
      "source": [
        "**Q17:** Let the values $y_{t}$ for $ 300 < t \\leq 400$ be missing (set to `np.nan`). Modify the data and rerun the Kalman filter and smoother. Plot,\n",
        "1. The Kalman filter predictions, analogously to **Q8**\n",
        "2. The Kalman smoother predictions, analogously to **Q13**\n",
        "\n",
        "Comment on the qualitative differences between the filter and smoother estimates and explain what you see (in a couple of sentences)."
      ]
    },
    {
      "cell_type": "code",
      "metadata": {
        "id": "fv833RMsLCLe"
      },
      "source": [
        "yNew = y.copy()\n",
        "yNew[300:400] = np.nan"
      ],
      "execution_count": 34,
      "outputs": []
    },
    {
      "cell_type": "code",
      "metadata": {
        "id": "f0FgMmn5F7bo"
      },
      "source": [
        "#Filter \n",
        "kfNew = kalman_filter(yNew , model)\n",
        "\n",
        "#Smoother\n",
        "ksNew = kalman_smoother(yNew , model , kfNew) \n",
        "\n",
        "n = len(yNew)\n",
        "s_tMeanNew = []\n",
        "\n",
        "for t in range(0,n):\n",
        "  s_tMeanNew.append(Z @ ksSE.alpha_sm[:,:,t])\n",
        "\n",
        "from pandas.core.common import flatten\n",
        "s_tMeanNew = list(flatten(s_tMeanNew))"
      ],
      "execution_count": 35,
      "outputs": []
    },
    {
      "cell_type": "code",
      "metadata": {
        "id": "eUAmkkXaLqPJ",
        "outputId": "d2b95a18-3c94-4a0e-95e1-f0fb4652a0e3",
        "colab": {
          "base_uri": "https://localhost:8080/",
          "height": 279
        }
      },
      "source": [
        "plt.plot(u,y ,label = \"Original Data\")\n",
        "plt.plot(u , kfNew.y_pred , label = \"Kalman Filter\")\n",
        "plt.plot(u , s_tMeanNew , label = \"Kalman Smoother\")\n",
        "plt.axvline(x=u[300])\n",
        "plt.axvline(x=u[400])\n",
        "plt.xlabel(\"Time\")\n",
        "plt.ylabel(\"GMSL\")\n",
        "plt.legend()\n",
        "plt.show()"
      ],
      "execution_count": 36,
      "outputs": [
        {
          "output_type": "display_data",
          "data": {
            "image/png": "[encoded data removed]",
            "text/plain": [
              "<Figure size 432x288 with 1 Axes>"
            ]
          },
          "metadata": {
            "tags": [],
            "needs_background": "light"
          }
        }
      ]
    },
    {
      "cell_type": "code",
      "metadata": {
        "id": "tk_ObMWHM94o",
        "outputId": "1daa50a7-89c6-4f8a-87b0-98160dd6f862",
        "colab": {
          "base_uri": "https://localhost:8080/",
          "height": 282
        }
      },
      "source": [
        "plt.plot(u[290:410],y[290:410] ,label = \"Original Data\")\n",
        "plt.plot(u[290:410] , kfNew.y_pred[290:410] , label = \"Kalman Filter\")\n",
        "plt.plot(u[290:410] , s_tMeanNew[290:410] , label = \"Kalman Smoother\")\n",
        "plt.axvline(x=u[300])\n",
        "plt.axvline(x=u[400])\n",
        "plt.xlabel(\"Time\")\n",
        "plt.ylabel(\"GMSL\")\n",
        "plt.legend()\n",
        "plt.show()"
      ],
      "execution_count": 38,
      "outputs": [
        {
          "output_type": "display_data",
          "data": {
            "image/png": "[encoded data removed]",
            "text/plain": [
              "<Figure size 432x288 with 1 Axes>"
            ]
          },
          "metadata": {
            "tags": [],
            "needs_background": "light"
          }
        }
      ]
    },
    {
      "cell_type": "markdown",
      "metadata": {
        "id": "o1aPq9yMLCLj"
      },
      "source": [
        "## Appendix A. Why didn't we learn the trend noise variance as well?\n",
        "In the assignment above we have fixed $\\sigma_\\mu$ to a small value. Conceptually it would have been straightforward to learn also this parameter with the EM algorithm. However, unfortunately, the maximum likelihood estimate of $\\sigma_\\mu$ often ends up being too large to result in accurate _long term predictions_. The reason for this issue is that the structural model\n",
        "\n",
        "\\begin{align}\n",
        "    y_t = \\mu_t + \\gamma_t + \\varepsilon_t\n",
        "\\end{align}\n",
        "\n",
        "is not a perfect description of reality. As a consequence, when learning the parameters the mismatch between the model and the data is compensated for by increasing the noise variances. This results in a trend component which does not only capture the long term trends of the data, but also seemingly random variations due to a model misspecification, possibly resulting in poor _long range predictions_.\n",
        "\n",
        "Kitagawa (Introduction to Time Series Modeling, CRC Press, 2010, Section 12.3) discusses this issue and proposes two solutions. The first is a simple and pragmatic one: simply fix $\\sigma_\\mu^2$ to a value smaller than the maximum likelihood estimate. This is the approach we have taken in this assignment. The issue is of course that in practice it is hard to know what value to pick, which boild down to manual trial and error (or, if you are lucky, the designer of the lab assignment will tell you which value to use!).\n",
        "\n",
        "The second, more principled, solution proposed by Kitagawa is to augment the model with a stationary AR component as well. That is, we model\n",
        "\n",
        "\\begin{align}\n",
        "    y_t = \\mu_t + \\gamma_t + \\nu_t + \\varepsilon_t\n",
        "\\end{align}\n",
        "\n",
        "where $\\nu_t \\sim$ AR$(p)$. By doing so, the stationary AR component can compensate for the discrepancies between the original structural model and the \"true data generating process\". It is straightforward to include this new component in the state space representation (how?) and to run the Kalman filter and smoother on the resulting model. Indeed, this is one of the beauties with working with the state space representation of time series data! However, the M-step of the EM algorithm becomes a bit more involved if we want to use the method to estimate also the AR coefficients of the $\\nu$-component, which is beyond the scope of this lab assignment."
      ]
    }
  ]
}