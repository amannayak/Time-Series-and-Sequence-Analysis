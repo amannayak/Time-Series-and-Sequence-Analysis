{
  "nbformat": 4,
  "nbformat_minor": 0,
  "metadata": {
    "kernelspec": {
      "display_name": "Python 3",
      "language": "python",
      "name": "python3"
    },
    "language_info": {
      "codemirror_mode": {
        "name": "ipython",
        "version": 3
      },
      "file_extension": ".py",
      "mimetype": "text/x-python",
      "name": "python",
      "nbconvert_exporter": "python",
      "pygments_lexer": "ipython3",
      "version": "3.8.5"
    },
    "colab": {
      "name": "tssl_lab2.ipynb",
      "provenance": [],
      "toc_visible": true
    },
    "accelerator": "GPU"
  },
  "cells": [
    {
      "cell_type": "markdown",
      "metadata": {
        "id": "azIf7MfiLCIw"
      },
      "source": [
        "# TSSL Lab 2 - Structural model, Kalman filtering and EM\n",
        "We will continue to work with the Global Mean Sea Level (GMSL) data that we got acquainted with in lab 1. The data is taken from https://climate.nasa.gov/vital-signs/sea-level/ and is available on LISAM in the file `sealevel.csv`.\n",
        "\n",
        "In this lab we will analyse this data using a structural time series model. We will first set up a model and implement a Kalman filter to infer the latet states of the model, as well doing long-term prediction. We will then implement a disturbance smoother and an expectation maximization algorithm to tune the parameters of the model. "
      ]
    },
    {
      "cell_type": "markdown",
      "metadata": {
        "id": "fcUMMIWILCIx"
      },
      "source": [
        "We load a few packages that are useful for solving this lab assignment."
      ]
    },
    {
      "cell_type": "code",
      "metadata": {
        "id": "98ED8NEnLCIy"
      },
      "source": [
        "import pandas  # Loading data / handling data frames\n",
        "import numpy as np\n",
        "import scipy\n",
        "from scipy import  linalg\n",
        "import matplotlib.pyplot as plt\n",
        "plt.rcParams[\"figure.figsize\"] = (12,8)  # Increase default size of plots"
      ],
      "execution_count": 1,
      "outputs": []
    },
    {
      "cell_type": "markdown",
      "metadata": {
        "id": "af-M_BDTLCI4"
      },
      "source": [
        "## 2.1 Setting up a structural state space model"
      ]
    },
    {
      "cell_type": "markdown",
      "metadata": {
        "id": "BaDE2trJLCI5"
      },
      "source": [
        "We start by loading and plotting data to remind ourselves what it looks like."
      ]
    },
    {
      "cell_type": "code",
      "metadata": {
        "id": "eAZEd-PsLCI6"
      },
      "source": [
        "data=pandas.read_csv('sealevel.csv',header=0)"
      ],
      "execution_count": 2,
      "outputs": []
    },
    {
      "cell_type": "code",
      "metadata": {
        "id": "G-aVRTfdLCI-",
        "outputId": "4b07c10e-7ea1-47f4-96bb-c20e0e5c8a2b",
        "colab": {
          "base_uri": "https://localhost:8080/",
          "height": 279
        }
      },
      "source": [
        "y = data['GMSL'].values\n",
        "u = data['Year'].values\n",
        "ndata = len(y)\n",
        "plt.plot(u,y)\n",
        "plt.xlabel('Year')\n",
        "plt.ylabel('GMSL deviation (mm)')\n",
        "plt.show()"
      ],
      "execution_count": 3,
      "outputs": [
        {
          "output_type": "display_data",
          "data": {
            "image/png": "[encoded data removed]",
            "text/plain": [
              "<Figure size 432x288 with 1 Axes>"
            ]
          },
          "metadata": {
            "tags": [],
            "needs_background": "light"
          }
        }
      ]
    },
    {
      "cell_type": "markdown",
      "metadata": {
        "id": "8WDcJK5HLCJD"
      },
      "source": [
        "In this lab we will use a structural time series model to analys this data set. Specifically, we assume that the data $\\{y_t\\}_{t\\geq 1}$ is generated by\n",
        "\n",
        "\\begin{align}\n",
        "    y_t = \\mu_t + \\gamma_t + \\varepsilon_t\n",
        "\\end{align}\n",
        "\n",
        "where $\\mu_t$ is a trend component, $\\gamma_t$ is a seasonal component, and $\\varepsilon_t$ is an observation noise. The model is expressed using a state space representation,\n",
        "\n",
        "\\begin{align}\n",
        "    \\alpha_{t+1} &= T \\alpha_t + R\\eta_t, & \\eta_t&\\sim N(0,Q), \\\\\n",
        "    y_t &= Z \\alpha_t + \\varepsilon_t, & \\varepsilon_t&\\sim N(0,\\sigma_\\varepsilon^2).\n",
        "\\end{align}"
      ]
    },
    {
      "cell_type": "markdown",
      "metadata": {
        "id": "Ft5AQtWyLCJD"
      },
      "source": [
        "**Q0:** Let $d = \\dim(\\alpha_t)$ denote the _state dimension_ and $d_\\eta = \\dim(\\eta_t)$ denote the dimension of the state noise. Then, what are the dimenisons of the matrices $T$, $R$, and $Z$ of the state space model?"
      ]
    },
    {
      "cell_type": "markdown",
      "metadata": {
        "id": "nWAdtDvnLCJE"
      },
      "source": [
        "**A:**\n",
        "\n",
        "Dimensions is given as  Row * Column and it is given that d = dim($\\alpha_{t}$) and $d_\\eta = \\dim(\\eta_t)$\n",
        "\n",
        "T = d * d\n",
        "\n",
        "R = $d_\\eta$ * 2\n",
        "\n",
        "Z = 1 * d\n"
      ]
    },
    {
      "cell_type": "markdown",
      "metadata": {
        "id": "Qq8qMd6hLCJF"
      },
      "source": [
        "**Q1:** Create the state space matrices $T_{[\\mu]}$, $R_{[\\mu]}$, and $Z_{[\\mu]}$ corresponding to the trend component $\\mu_t$. We assume a local linear trend (that is, of order $k=2$). \n",
        "\n",
        "_Hint:_ Use **2-dimensional** `numpy.ndarray`s of the correct sizes to represent all the matrices."
      ]
    },
    {
      "cell_type": "code",
      "metadata": {
        "id": "kZmV3Lu1LCJG"
      },
      "source": [
        "T_mu = np.array([[2,-1],[1,0]])\n",
        "R_mu = np.array([[1],[0]])\n",
        "Z_mu = np.array([[1 ,0 ]])"
      ],
      "execution_count": 4,
      "outputs": []
    },
    {
      "cell_type": "code",
      "metadata": {
        "id": "rnlLokayQDER",
        "outputId": "d5f17c7c-812b-4f88-c580-a0943a848cf1",
        "colab": {
          "base_uri": "https://localhost:8080/",
          "height": 68
        }
      },
      "source": [
        "print(T_mu.shape)\n",
        "print(R_mu.shape)\n",
        "print(Z_mu.shape)"
      ],
      "execution_count": 5,
      "outputs": [
        {
          "output_type": "stream",
          "text": [
            "(2, 2)\n",
            "(2, 1)\n",
            "(1, 2)\n"
          ],
          "name": "stdout"
        }
      ]
    },
    {
      "cell_type": "markdown",
      "metadata": {
        "id": "NgQmqYOQLCJK"
      },
      "source": [
        "**Q2:** There is a yearly seasonal pattern present in the data. What should we set the periodicity $s$ of the seasonal component to, to capture this pattern?\n",
        "\n",
        "_Hint:_ Count the average number of observations per (whole) year and round to the closest integer."
      ]
    },
    {
      "cell_type": "code",
      "metadata": {
        "id": "SRrOgWWSZQLV",
        "outputId": "86feba36-60d5-4649-a5b1-ee42c3787707",
        "colab": {
          "base_uri": "https://localhost:8080/",
          "height": 34
        }
      },
      "source": [
        "#s = 37 manual check\n",
        "#coverting sample to year unit only\n",
        "sampleYearly = u.astype(int)\n",
        "unique_elements, counts_elements = np.unique(sampleYearly, return_counts=True)\n",
        "#because of presence of last year count is decreasing by 1 so removing it as avg value is coming as 36 while without that it is 37 so going ahead with 37\n",
        "#s = round(np.mean(np.delete(counts_elements , -1)))\n",
        "s = round(np.mean(counts_elements))\n",
        "# Removed assumptions \n",
        "print(f\"Average number of observations per (whole) year and round to the closest integer is {s}\")\n",
        "# print(f\"Year   : {unique_elements}\")\n",
        "# print(f\"count per year : {counts_elements} \")\n",
        "# print( f\"avg of count {s}\")"
      ],
      "execution_count": 6,
      "outputs": [
        {
          "output_type": "stream",
          "text": [
            "Average number of observations per (whole) year and round to the closest integer is 36.0\n"
          ],
          "name": "stdout"
        }
      ]
    },
    {
      "cell_type": "markdown",
      "metadata": {
        "id": "CbcNLTRRLCJQ"
      },
      "source": [
        "\n",
        "\n",
        "**Q3:** What is the _state dimension_ of a seasonal component with periodicity $s$? That is, how many states are needed in the corresponding state space representation?"
      ]
    },
    {
      "cell_type": "markdown",
      "metadata": {
        "id": "1ENtlDj6LCJR"
      },
      "source": [
        "**A:** For S as 36 seasonal component, state dimension will be S-1 * S-1 i.e 35*35\n"
      ]
    },
    {
      "cell_type": "markdown",
      "metadata": {
        "id": "Cyss-X_sLCJT"
      },
      "source": [
        "**Q4:** Create the state space matrices $T_{[\\gamma]}$, $R_{[\\gamma]}$, and $Z_{[\\gamma]}$ corresponding to the seasonal component $\\gamma_t$. \n",
        "\n",
        "_Hint:_ Use **2-dimensional** `numpy.ndarray`s of the correct sizes to represent all the matrices."
      ]
    },
    {
      "cell_type": "code",
      "metadata": {
        "id": "iskEl0SZLCJU"
      },
      "source": [
        "T_gamma = -1 * np.ones((1,35) , dtype=int)\n",
        "T_gamma = np.append(T_gamma , np.append(np.identity(34) , np.zeros((34 ,1)) , axis = 1 ) , axis= 0)\n",
        "R_gamma = np.zeros((35,1) , dtype= int)\n",
        "R_gamma[0,0] = 1\n",
        "Z_gamma = np.zeros((1,35) , dtype = int)\n",
        "Z_gamma[0,0] = 1 "
      ],
      "execution_count": 7,
      "outputs": []
    },
    {
      "cell_type": "code",
      "metadata": {
        "id": "9SpW2f3bTA8v",
        "outputId": "ce15e044-3544-42e3-a630-44f83554e732",
        "colab": {
          "base_uri": "https://localhost:8080/",
          "height": 68
        }
      },
      "source": [
        "print(T_gamma.shape)\n",
        "print(R_gamma.shape)\n",
        "print(Z_gamma.shape)"
      ],
      "execution_count": 8,
      "outputs": [
        {
          "output_type": "stream",
          "text": [
            "(35, 35)\n",
            "(35, 1)\n",
            "(1, 35)\n"
          ],
          "name": "stdout"
        }
      ]
    },
    {
      "cell_type": "markdown",
      "metadata": {
        "id": "62stagJ_LCJY"
      },
      "source": [
        "**Q5:** Using the matrices that you have constructed above, create the state space matrices for the complete structural time series model. Print out the shapes of the resulting system matrices and check that they correspond to what you expect (cf **Q0**).\n",
        "\n",
        "_Hint:_ Use `scipy.linalg.block_diag` and `numpy.concatenate`."
      ]
    },
    {
      "cell_type": "code",
      "metadata": {
        "id": "G7AyubBRLCJZ"
      },
      "source": [
        "T = scipy.linalg.block_diag(T_mu , T_gamma)\n",
        "R = scipy.linalg.block_diag(R_mu , R_gamma)\n",
        "Z = np.concatenate((Z_mu , Z_gamma) , axis = 1 )"
      ],
      "execution_count": 9,
      "outputs": []
    },
    {
      "cell_type": "code",
      "metadata": {
        "scrolled": true,
        "id": "VMOM5dDWLCJd",
        "outputId": "ddf7716e-c91f-44a9-d06d-5188b703ffbb",
        "colab": {
          "base_uri": "https://localhost:8080/",
          "height": 68
        }
      },
      "source": [
        "print(f\"Shape for T is {T.shape}\")\n",
        "print(f\"Shape for R is {R.shape}\")\n",
        "print(f\"Shape for Z is {Z.shape}\")"
      ],
      "execution_count": 10,
      "outputs": [
        {
          "output_type": "stream",
          "text": [
            "Shape for T is (37, 37)\n",
            "Shape for R is (37, 2)\n",
            "Shape for Z is (1, 37)\n"
          ],
          "name": "stdout"
        }
      ]
    },
    {
      "cell_type": "code",
      "metadata": {
        "id": "2TQrx7ipyBzY"
      },
      "source": [
        "#Z"
      ],
      "execution_count": 11,
      "outputs": []
    },
    {
      "cell_type": "markdown",
      "metadata": {
        "id": "2Tah30FeeDrW"
      },
      "source": [
        "Looking at above shape we can say that they corresponds to Q0 as "
      ]
    },
    {
      "cell_type": "markdown",
      "metadata": {
        "id": "1rkR6D5HLCJj"
      },
      "source": [
        "We also need to specify the variances of the process noise $\\eta_t$ and measurement noise $\\varepsilon_t$. Below, we will estimate (two of) these variances from data, but for now we set them arbitrarily to get an initial model to work with."
      ]
    },
    {
      "cell_type": "code",
      "metadata": {
        "id": "2_Krp0wNLCJk"
      },
      "source": [
        "# Some arbitrary noise values for now\n",
        "sigma_trend = 0.01\n",
        "sigma_seas = 1\n",
        "sigma_eps = 1\n",
        "Q = np.array([[sigma_trend**2, 0.], [0., sigma_seas**2]])  # Process noise covariance matrix"
      ],
      "execution_count": 12,
      "outputs": []
    },
    {
      "cell_type": "markdown",
      "metadata": {
        "id": "DPQkIidoLCJz"
      },
      "source": [
        "Finally, to complete the model we need to specify the distribution of the initial state. This encodes our _a priori_ belief about the actual values of the trend and seasonality, i.e., before observing any data."
      ]
    },
    {
      "cell_type": "markdown",
      "metadata": {
        "id": "h5Ff7NCfLCJ1"
      },
      "source": [
        "**Q6:** Set up the mean vector of the initial state $a_1 = \\mathbb{E}[\\alpha_1]$ such that:\n",
        "* The trend component starts at the first observation, $\\mathbb{E}[\\mu_1] = y_1$,\n",
        "* The slope of the trend is _a priori_ zero in expectation, $\\mathbb{E}[\\mu_1 - \\mu_0] = 0$,\n",
        "* The initial mean of all states related to the seasonal component are zero.\n",
        "\n",
        "Also, create an initial state covariance matrix $P_1 = \\text{Cov}(\\alpha_1)$ as an identity matrix of the correct dimension, multiplied with a large value (say, 100) to represent our uncertainty about the initial state."
      ]
    },
    {
      "cell_type": "code",
      "metadata": {
        "id": "jNjgaeeuLCJ4"
      },
      "source": [
        "# a1 = y[0,]\n",
        "# a1 = np.append(a1.reshape(1,1) , np.zeros((36,1)) , axis=0)"
      ],
      "execution_count": 13,
      "outputs": []
    },
    {
      "cell_type": "code",
      "metadata": {
        "id": "hS1DZUy3vV1y"
      },
      "source": [
        "a1 = np.zeros(37).reshape(37,1)\n",
        "a1[0] = y[0] "
      ],
      "execution_count": 14,
      "outputs": []
    },
    {
      "cell_type": "code",
      "metadata": {
        "id": "WdKR9zZWx9YL"
      },
      "source": [
        "P1 = 100 * np.identity(n = 37)"
      ],
      "execution_count": 15,
      "outputs": []
    },
    {
      "cell_type": "code",
      "metadata": {
        "id": "s561YUQJzP91",
        "outputId": "54f99ead-ac69-400e-8ffe-83ccb3954995",
        "colab": {
          "base_uri": "https://localhost:8080/",
          "height": 34
        }
      },
      "source": [
        "P1.shape"
      ],
      "execution_count": 16,
      "outputs": [
        {
          "output_type": "execute_result",
          "data": {
            "text/plain": [
              "(37, 37)"
            ]
          },
          "metadata": {
            "tags": []
          },
          "execution_count": 16
        }
      ]
    },
    {
      "cell_type": "markdown",
      "metadata": {
        "id": "CwV4NMGPLCKF"
      },
      "source": [
        "We have now defined all the matrices etc. that make up the structural state space model. For convenience, we can create an object of the class `LGSS` available in the module `tssltools_lab2` as a container for these quantities."
      ]
    },
    {
      "cell_type": "code",
      "metadata": {
        "id": "KdEorCF0LCKG",
        "outputId": "56ca1a37-46ed-4f77-a0b2-da47262e5d24",
        "colab": {
          "base_uri": "https://localhost:8080/",
          "height": 136
        }
      },
      "source": [
        "from tssltools_lab2 import LGSS  # Module available in LISAM\n",
        "model = LGSS(T, R, Q, Z, sigma_eps**2, a1, P1)\n",
        "\n",
        "help(model.get_params)"
      ],
      "execution_count": 17,
      "outputs": [
        {
          "output_type": "stream",
          "text": [
            "Help on method get_params in module tssltools_lab2:\n",
            "\n",
            "get_params() method of tssltools_lab2.LGSS instance\n",
            "    Return all model parameters.\n",
            "    \n",
            "    T, R, Q, Z, H, a1, P1 = model.get_params()\n",
            "\n"
          ],
          "name": "stdout"
        }
      ]
    },
    {
      "cell_type": "markdown",
      "metadata": {
        "id": "CJSb_kzRLCKP"
      },
      "source": [
        "## 2.2 Kalman filtering for the structural model\n",
        "Now we have the data and a model available. Next, we will turn our attention to the inference problem, which is a central task when analysing time series data using the state space framework.\n",
        "\n",
        "State inference is the problem of estimating the unknown (latent) state variables given the data. For the time being we assume that the _model parameters_ are completely specified, according to above, and only consider how to estimate the states using the Kalman filter.\n",
        "\n",
        "In the questions below we will treat the first $n=800$ time steps as training data and the remaining $m=197$ observations as validation data. "
      ]
    },
    {
      "cell_type": "code",
      "metadata": {
        "id": "6vdPD_5iLCKR"
      },
      "source": [
        "n = 800\n",
        "m = ndata-n"
      ],
      "execution_count": 18,
      "outputs": []
    },
    {
      "cell_type": "markdown",
      "metadata": {
        "id": "pFYqKnCWLCKZ"
      },
      "source": [
        "\n",
        "**Q7:** Complete the Kalman filter implementation below. The function should be able to handle missing observations, which are encoded as \"not a number\", i.e. `y[t] = np.nan` for certain time steps `t`. \n",
        "\n",
        "_Hint:_ The Kalman filter involves a lot of matrix-matrix and matrix-vector multiplications. It turns out to be convient to store sequences of vectors (such as the predicted and filtered state estimates) as `(d,1,n)` arrays, instead of `(d,n)` or `(n,d)` arrays. In this way the matrix multiplications will result in 2d-arrays of the correct shapes without having to use a lot of explicit `reshape`. However, clearly, this is just a matter of coding style preferences!"
      ]
    },
    {
      "cell_type": "code",
      "metadata": {
        "id": "HC8mJFiKLCKb"
      },
      "source": [
        "from tssltools_lab2 import kfs_res  # Module available in LISAM. kfs_res is a container class for storing the result.\n",
        "\n",
        "def kalman_filter(y, model: LGSS):\n",
        "    \"\"\"Kalman filter for LGSS model with one-dimensional observation.\n",
        "\n",
        "    :param y: (n,) array of observations. May contain nan, which encodes missing observations.\n",
        "    :param model: LGSS object with the model specification.\n",
        "    \n",
        "    :return kfs_res: Container class with member variables,\n",
        "        alpha_pred: (d,1,n) array of predicted state means.\n",
        "        P_pred: (d,d,n) array of predicted state covariances.\n",
        "        alpha_filt: (d,1,n) array of filtered state means.\n",
        "        P_filt: (d,d,n) array of filtered state covariances.\n",
        "        y_pred: (n,) array of means of p(y_t | y_{1:t-1})\n",
        "        F_pred: (n,) array of variances of p(y_t | y_{1:t-1})\n",
        "    \"\"\"\n",
        "\n",
        "    n = len(y)\n",
        "    d = model.d  # State dimension\n",
        "    alpha_pred = np.zeros((d, 1, n))\n",
        "    P_pred = np.zeros((d, d, n))\n",
        "    alpha_filt = np.zeros((d, 1, n))\n",
        "    P_filt = np.zeros((d, d, n)) #renamed \n",
        "    y_pred = np.zeros(n)\n",
        "    F_pred = np.zeros(n)\n",
        "    \n",
        "    #print(alpha_filt.shape)\n",
        "\n",
        "    T, R, Q, Z, H, a1, P1 = model.get_params()  # Get all model parameters (for brevity)\n",
        "\n",
        "    for t in range(n):\n",
        "        # Time update (predict)\n",
        "        if t == 0:  # Initialize predictions at first time step\n",
        "            alpha_pred[:,:,t] = a1\n",
        "            P_pred[:,:,t] = P1\n",
        "        else:  # All consecutive time steps\n",
        "            #@ > dot product\n",
        "            alpha_pred[:,:,t] = T @ alpha_filt[:,:,(t-1)] \n",
        "            #alpha_pred[:,:,t] = alpha_filt[:,:,(t-1)] \n",
        "            P_pred[:,:,t] = (T @ P_filt[:,:,(t-1)]) @ np.transpose(T) + R @ Q @ np.transpose(R)\n",
        "        # Compute prediction of current output\n",
        "        y_pred[t] = Z @ alpha_pred[:,:,t]\n",
        "        F_pred[t] = ((Z @ P_pred[:,:,t]) @ np.transpose(Z)) +  H\n",
        "        #F_pred[t] = Z @ P_pred[:,:,t] @ np.transpose(Z) \n",
        "\n",
        "        # Measurement update (correct)\n",
        "        if np.isnan(y[t]):  # Handle missing data\n",
        "          alpha_filt[:,:,t] = alpha_pred[:,:,t]\n",
        "          P_filt[:,:,t] = P_pred[:,:,t]           \n",
        "        else:\n",
        "          K_Gain = (P_pred[:,:,t] @ np.transpose(Z))/F_pred[t] \n",
        "          alpha_filt[:,:,t] = alpha_pred[:,:,t] + (K_Gain * (y[t] - y_pred[t]))\n",
        "          #print(alpha_filt.shape)\n",
        "          P_filt[:,:,t] = (np.identity(d) - (K_Gain @ Z)) @ P_pred[:,:,t]\n",
        "\n",
        "    # Container for storing all results\n",
        "    kf = kfs_res(alpha_pred, P_pred, alpha_filt, P_filt, y_pred, F_pred)\n",
        "    return kf"
      ],
      "execution_count": 19,
      "outputs": []
    },
    {
      "cell_type": "markdown",
      "metadata": {
        "id": "15XxtUDuLCKh"
      },
      "source": [
        "**Q8:** Use the Kalman filter to infer the states of the structural time series applied to the sealevel data. Run the filter on the training data (i.e., first $n=700$ time steps), followed by a long-range prediction of $y_t$ for the remaining time points. \n",
        "\n",
        "Generate a plot which shows:\n",
        "1. The data $y_{1:n+m}$,\n",
        "2. The one-step predictions $\\hat y_{t|t-1} \\pm 1 $ standard deviation for the training data, i.e., $t = 1,...,n$,\n",
        "3. The long-range predictions $\\hat y_{t|n} \\pm 1 $ standard deviation for the validation data, i.e., $t= n+1,...,n+m$,\n",
        "4. A vertical line indicating the switch between training and validation data, using, e.g., `plt.axvline(x=u[n])`.\n",
        "\n",
        "_Hint:_ It is enough to call the `kalman_filter` function once. Make use of the missing data functionality!"
      ]
    },
    {
      "cell_type": "code",
      "metadata": {
        "scrolled": false,
        "id": "KaIcrflELCKi"
      },
      "source": [
        "#it looks like we have some issue with n consideration as in Q7 it is asked to use 800 while in Q8 it is asked to use 700 \n",
        "#Going with Q7 way with n as 800 datapoints \n",
        "n = 800\n",
        "m = ndata-n\n",
        "yTrain = y.copy()\n",
        "#implemented such that for we can use it for long range prediction(i.e. adding Nan for future values) \n",
        "yTrain[801:] = np.nan\n",
        "kf = kalman_filter(yTrain , model)\n",
        "\n",
        "sd1 = kf.y_pred - np.sqrt(kf.F_pred)\n",
        "sd2 = kf.y_pred + np.sqrt(kf.F_pred)"
      ],
      "execution_count": 20,
      "outputs": []
    },
    {
      "cell_type": "code",
      "metadata": {
        "id": "wHiORF8m0OOL",
        "outputId": "1d48af1a-231c-4887-9ad9-d999bf005875",
        "colab": {
          "base_uri": "https://localhost:8080/",
          "height": 279
        }
      },
      "source": [
        "#Data Plot \n",
        "plt.plot(u,y ,label = \"Original Data\")\n",
        "plt.plot(u , kf.y_pred , label = \"Kalman Pred\")\n",
        "#plt.scatter(u , sd1 , label = \"Standard Deviation\" , color = \"green\")\n",
        "#plt.scatter(u , sd2 , label = \"Standard Deviation\" , color = \"green\")\n",
        "plt.plot(u , sd1 , label = \"Standard Deviation\" , color = \"green\")\n",
        "plt.plot(u , sd2 , label = \"Standard Deviation\" , color = \"green\")\n",
        "plt.axvline(x=u[n])\n",
        "plt.xlabel(\"Time\")\n",
        "plt.ylabel(\"GMSL\")\n",
        "plt.legend()\n",
        "plt.show()"
      ],
      "execution_count": 21,
      "outputs": [
        {
          "output_type": "display_data",
          "data": {
            "image/png": "[encoded data removed]",
            "text/plain": [
              "<Figure size 432x288 with 1 Axes>"
            ]
          },
          "metadata": {
            "tags": [],
            "needs_background": "light"
          }
        }
      ]
    },
    {
      "cell_type": "markdown",
      "metadata": {
        "id": "zzDpM903LCKx"
      },
      "source": [
        "**Q9:** Based on the output of the Kalman filter, compute the training data log-likelihood $\\log p(y_{1:n})$."
      ]
    },
    {
      "cell_type": "code",
      "metadata": {
        "id": "nIR1ZnumLCKy",
        "outputId": "9137fee3-bdac-4ef5-bafb-b9b0271a4b3a",
        "colab": {
          "base_uri": "https://localhost:8080/",
          "height": 34
        }
      },
      "source": [
        "logLikLi = (-1/2)*(np.sum(np.log(np.absolute(kf.F_pred[:801,])) + (np.transpose(yTrain[:801,] - kf.y_pred[:801,]) / kf.F_pred[:801,]) @ (yTrain[:801,] - kf.y_pred[:801,])))\n",
        "print(f\"Log-Likelihood for Training Data is {logLikLi}\")"
      ],
      "execution_count": 22,
      "outputs": [
        {
          "output_type": "stream",
          "text": [
            "Log-Likelihood for Training Data is -2085686.7746347892\n"
          ],
          "name": "stdout"
        }
      ]
    },
    {
      "cell_type": "markdown",
      "metadata": {
        "id": "Q_mOSD4DLCK3"
      },
      "source": [
        "## 2.3 Identifying the noise variances using the EM algorithm\n",
        "So far we have used fixed model parameters when running the filter. In this section we will see how the model parameters can be learnt from data using the EM algorithm. Specifically, we will try to learn the variance of the state noise affecting the seasonal component as well as the variance of the observation noise,\n",
        "\n",
        "\\begin{align}\n",
        "    \\theta = (\\sigma_\\gamma^2, \\sigma_\\varepsilon^2).\n",
        "\\end{align}\n",
        "\n",
        "For brevity, the variance of the trend component $\\sigma_\\mu^2$ is fixed to the value $\\sigma_\\mu^2 = 0.01^2$ as above. (See Appendix A below for an explanation.)\n",
        "\n",
        "Recall that we consider $y_{1:n}$ as the training data, i.e., we will estimate $\\theta$ using only the first $n=800$ observations."
      ]
    },
    {
      "cell_type": "markdown",
      "metadata": {
        "id": "T4d589fxLCK4"
      },
      "source": [
        "**Q10:** Which optimization problem is it that the EM algorithm is designed to solve? Complete the line below!"
      ]
    },
    {
      "cell_type": "markdown",
      "metadata": {
        "id": "m6_UpiB4LCK4"
      },
      "source": [
        "**A:** $\\hat\\theta = \\arg\\max_{\\theta} Q(\\theta | \\theta_{t}$)"
      ]
    },
    {
      "cell_type": "markdown",
      "metadata": {
        "id": "PpGrQuxCLCK5"
      },
      "source": [
        "**Q11:** Write down the updating equations on closed form for the M-step in the EM algorithm.\n",
        "\n",
        "_Hint: Look at Exercise Session 2_"
      ]
    },
    {
      "cell_type": "markdown",
      "metadata": {
        "id": "h71Qq2WiLCK6"
      },
      "source": [
        "**A:**\n",
        "\n"
      ]
    },
    {
      "cell_type": "markdown",
      "metadata": {
        "id": "7obkMODsLCK7"
      },
      "source": [
        "To implement the EM algorithm we need to solve a _smoothing problem_. The Kalman filter that we implemented above is based only on a forward propagation of information. The _smoother_ complements the forward filter with a backward pass to compute refined state estimates. Specifically, the smoothed state estimates comprise the mean and covariances of\n",
        "\n",
        "\\begin{align}\n",
        "    &p(\\alpha_t \\mid y_{1:n}), & t=&1,\\dots,n\n",
        "\\end{align}\n",
        "\n",
        "Furthermore, when implementing the EM algorithm it is convenient to work with the (closely related) smoothed estimates of the disturbances, i.e., the state and measurement noise,\n",
        "\n",
        "\\begin{align}\n",
        "    &p(\\eta_t \\mid y_{1:n}), & t=&1,\\dots,n-1 \\\\\n",
        "    &p(\\varepsilon_t \\mid y_{1:n}), & t=&1,\\dots,n\n",
        "\\end{align}\n",
        "\n",
        "An implementation of a state and disturbance smoother is available in the `tssltools_lab2` module. You may use this when implementing the EM algorithm below.\n"
      ]
    },
    {
      "cell_type": "code",
      "metadata": {
        "id": "I9AfR_8kLCK7",
        "outputId": "152a5129-d556-4a9e-e8c6-a54f82988615",
        "colab": {
          "base_uri": "https://localhost:8080/",
          "height": 306
        }
      },
      "source": [
        "from tssltools_lab2 import kalman_smoother\n",
        "help(kalman_smoother)"
      ],
      "execution_count": 23,
      "outputs": [
        {
          "output_type": "stream",
          "text": [
            "Help on function kalman_smoother in module tssltools_lab2:\n",
            "\n",
            "kalman_smoother(y, model:tssltools_lab2.LGSS, kf:tssltools_lab2.kfs_res)\n",
            "    Kalman (state and disturbance) smoother for LGSS model with one-dimensional observation.\n",
            "    \n",
            "    :param y: (n,) array of observations. May contain nan, which encodes missing observations.\n",
            "    :param model: LGSS object with the model specification.\n",
            "    :parma kf: kfs_res object with result from a Kalman filter foward pass.\n",
            "    \n",
            "    :return kfs_res: Container class. The original Kalman filter result is augmented with the following member variables,\n",
            "        alpha_sm: (d,1,n) array of smoothed state means.\n",
            "        V: (d,d,n) array of smoothed state covariances.\n",
            "        eps_hat: (n,) array of smoothed means of observation disturbances.\n",
            "        eps_var: (n,) array of smoothed variances of observation disturbances.\n",
            "        eta_hat: (deta,1,n) array of smoothed means of state disturbances.\n",
            "        eta_cov: (deta,deta,n) array of smoothed covariances of state disturbances.\n",
            "\n"
          ],
          "name": "stdout"
        }
      ]
    },
    {
      "cell_type": "markdown",
      "metadata": {
        "id": "LB6lz9GYLCK_"
      },
      "source": [
        "**Q12:** Implement an EM algorithm by completing the code below. Run the algorithm for 100 iterations and plot the traces of the parameter estimates, i.e., the values $\\theta_r$, for $r = 0,\\dots,100$.\n",
        "\n",
        "_Note:_ When running the Kalman filter as part of the EM loop you should only filter the _training data_ (i.e. excluding the prediction for validation data).\n"
      ]
    },
    {
      "cell_type": "code",
      "metadata": {
        "id": "wNBjFvlwLCLA",
        "outputId": "23f279c5-ead1-4537-e21b-e3c8b2f3cda0",
        "colab": {
          "base_uri": "https://localhost:8080/",
          "height": 1000
        }
      },
      "source": [
        "num_iter = 100\n",
        "\n",
        "def compute_theta(ks):\n",
        "    \"\"\"Implements the M-step of the EM-algorithm, based on the Kalman smoother results (ks). See Q11.\"\"\"\n",
        "    n = len(ks.eps_hat)\n",
        "    sigma_epsilon2  = (1/n) * np.sum(ks.eps_hat**2 - ks.eps_var) #observation \n",
        "    sigma_neta2 = (1/(n-1)) * np.sum(ks.eta_hat**2 - ks.eta_cov) #seasonal \n",
        "    theta_new = (sigma_epsilon2 , sigma_neta2)\n",
        "    return theta_new\n",
        "\n",
        "\n",
        "minChange = 0.01 #custom threshold set, could be changed based on expected diff \n",
        "logLikeLi = [] \n",
        "sigma_eps_Arr = []\n",
        "sigma_seas_Arr = []\n",
        "#Q = np.array([[sigma_trend**2, 0.], [0., sigma_seas**2]])  # Process noise covariance matrix #from above\n",
        "\n",
        "sigma_eps2 = 0.01**2\n",
        "\n",
        "#changing r to 0 in-order to python indexing \n",
        "for r in range(0,num_iter):\n",
        "    print(f\"Number of iteration is : {r}\")\n",
        "    # E-step\n",
        "    model = LGSS(T, R , Q, Z , sigma_eps2 , a1 , P1) #model Parameter\n",
        "    kf = kalman_filter(yTrain[:801] , model)#Call Kalman filter with updated model \n",
        "    ks = kalman_smoother(yTrain[:801], model, kf)\n",
        "    \n",
        "    #calculating log likelihood while ignoring constant as it is same accross all \n",
        "        \n",
        "    index = 801\n",
        "    logLikeLi.append((-1/2)*(np.sum(np.log(np.absolute(kf.F_pred[:index,])) + (np.transpose(yTrain[:index,] - kf.y_pred[:index,]) / kf.F_pred[:index,]) @ (yTrain[:index,] - kf.y_pred[:index,]))))\n",
        "    \n",
        "    if r > 0:\n",
        "      if (abs(logLikeLi[r] - logLikeLi[(r-1)]) > minChange):\n",
        "        print(f\"LogLikeLihood is {logLikeLi[r]}\")\n",
        "      else:\n",
        "        print(\"Min change does not occur thus converging and loop break is applied\")\n",
        "        break;\n",
        "    \n",
        "    # M-step\n",
        "    sigma_eps2 , sigma_seas2 = compute_theta(ks)\n",
        "    sigma_eps_Arr.append(sigma_eps2)\n",
        "    sigma_seas_Arr.append(sigma_seas2)\n",
        "    Q = np.array([[sigma_trend**2, 0.], [0., sigma_seas2]])\n",
        "    "
      ],
      "execution_count": 24,
      "outputs": [
        {
          "output_type": "stream",
          "text": [
            "Number of iteration is : 0\n",
            "Number of iteration is : 1\n",
            "LogLikeLihood is -784543.2165244372\n",
            "Number of iteration is : 2\n",
            "LogLikeLihood is -505207.20038272114\n",
            "Number of iteration is : 3\n",
            "LogLikeLihood is -434211.2971359759\n",
            "Number of iteration is : 4\n",
            "LogLikeLihood is -404418.6670580183\n",
            "Number of iteration is : 5\n",
            "LogLikeLihood is -390255.714182494\n",
            "Number of iteration is : 6\n",
            "LogLikeLihood is -383029.4513444332\n",
            "Number of iteration is : 7\n",
            "LogLikeLihood is -379367.6373254929\n",
            "Number of iteration is : 8\n",
            "LogLikeLihood is -377373.80867653585\n",
            "Number of iteration is : 9\n",
            "LogLikeLihood is -376397.6720743181\n",
            "Number of iteration is : 10\n",
            "LogLikeLihood is -375806.7456604367\n",
            "Number of iteration is : 11\n",
            "LogLikeLihood is -375568.072763768\n",
            "Number of iteration is : 12\n",
            "LogLikeLihood is -375367.1608269989\n",
            "Number of iteration is : 13\n",
            "LogLikeLihood is -375334.8380566316\n",
            "Number of iteration is : 14\n",
            "LogLikeLihood is -375243.4294256427\n",
            "Number of iteration is : 15\n",
            "LogLikeLihood is -375269.14768293453\n",
            "Number of iteration is : 16\n",
            "LogLikeLihood is -375208.5690186181\n",
            "Number of iteration is : 17\n",
            "LogLikeLihood is -375250.6366527327\n",
            "Number of iteration is : 18\n",
            "LogLikeLihood is -375198.7447130616\n",
            "Number of iteration is : 19\n",
            "LogLikeLihood is -375245.4196450304\n",
            "Number of iteration is : 20\n",
            "LogLikeLihood is -375195.9758325253\n",
            "Number of iteration is : 21\n",
            "LogLikeLihood is -375243.9492642393\n",
            "Number of iteration is : 22\n",
            "LogLikeLihood is -375195.1954349164\n",
            "Number of iteration is : 23\n",
            "LogLikeLihood is -375243.5348421049\n",
            "Number of iteration is : 24\n",
            "LogLikeLihood is -375194.97548157885\n",
            "Number of iteration is : 25\n",
            "LogLikeLihood is -375243.41803831427\n",
            "Number of iteration is : 26\n",
            "LogLikeLihood is -375194.9134879896\n",
            "Number of iteration is : 27\n",
            "LogLikeLihood is -375243.3851175825\n",
            "Number of iteration is : 28\n",
            "LogLikeLihood is -375194.8960150445\n",
            "Number of iteration is : 29\n",
            "LogLikeLihood is -375243.3758391063\n",
            "Number of iteration is : 30\n",
            "LogLikeLihood is -375194.8910901173\n",
            "Number of iteration is : 31\n",
            "LogLikeLihood is -375243.3732241823\n",
            "Number of iteration is : 32\n",
            "LogLikeLihood is -375194.8897018821\n",
            "Number of iteration is : 33\n",
            "LogLikeLihood is -375243.3724873473\n",
            "Number of iteration is : 34\n",
            "LogLikeLihood is -375194.8893104154\n",
            "Number of iteration is : 35\n",
            "LogLikeLihood is -375243.3722798547\n",
            "Number of iteration is : 36\n",
            "LogLikeLihood is -375194.8891999064\n",
            "Number of iteration is : 37\n",
            "LogLikeLihood is -375243.3722215838\n",
            "Number of iteration is : 38\n",
            "LogLikeLihood is -375194.88916854514\n",
            "Number of iteration is : 39\n",
            "LogLikeLihood is -375243.3722053159\n",
            "Number of iteration is : 40\n",
            "LogLikeLihood is -375194.88915954076\n",
            "Number of iteration is : 41\n",
            "LogLikeLihood is -375243.37220091803\n",
            "Number of iteration is : 42\n",
            "LogLikeLihood is -375194.8891568051\n",
            "Number of iteration is : 43\n",
            "LogLikeLihood is -375243.37219987984\n",
            "Number of iteration is : 44\n",
            "LogLikeLihood is -375194.88915584073\n",
            "Number of iteration is : 45\n",
            "LogLikeLihood is -375243.37219975644\n",
            "Number of iteration is : 46\n",
            "LogLikeLihood is -375194.88915537973\n",
            "Number of iteration is : 47\n",
            "LogLikeLihood is -375243.3721999271\n",
            "Number of iteration is : 48\n",
            "LogLikeLihood is -375194.8891551001\n",
            "Number of iteration is : 49\n",
            "LogLikeLihood is -375243.372200161\n",
            "Number of iteration is : 50\n",
            "LogLikeLihood is -375194.8891548155\n",
            "Number of iteration is : 51\n",
            "LogLikeLihood is -375243.37220039807\n",
            "Number of iteration is : 52\n",
            "LogLikeLihood is -375194.88915456977\n",
            "Number of iteration is : 53\n",
            "LogLikeLihood is -375243.3722006613\n",
            "Number of iteration is : 54\n",
            "LogLikeLihood is -375194.88915427955\n",
            "Number of iteration is : 55\n",
            "LogLikeLihood is -375243.3722008995\n",
            "Number of iteration is : 56\n",
            "LogLikeLihood is -375194.88915404584\n",
            "Number of iteration is : 57\n",
            "LogLikeLihood is -375243.3722011732\n",
            "Number of iteration is : 58\n",
            "LogLikeLihood is -375194.88915377174\n",
            "Number of iteration is : 59\n",
            "LogLikeLihood is -375243.37220141466\n",
            "Number of iteration is : 60\n",
            "LogLikeLihood is -375194.88915350527\n",
            "Number of iteration is : 61\n",
            "LogLikeLihood is -375243.3722016961\n",
            "Number of iteration is : 62\n",
            "LogLikeLihood is -375194.8891532647\n",
            "Number of iteration is : 63\n",
            "LogLikeLihood is -375243.3722019311\n",
            "Number of iteration is : 64\n",
            "LogLikeLihood is -375194.88915300433\n",
            "Number of iteration is : 65\n",
            "LogLikeLihood is -375243.37220221985\n",
            "Number of iteration is : 66\n",
            "LogLikeLihood is -375194.88915275794\n",
            "Number of iteration is : 67\n",
            "LogLikeLihood is -375243.3722024704\n",
            "Number of iteration is : 68\n",
            "LogLikeLihood is -375194.88915249193\n",
            "Number of iteration is : 69\n",
            "LogLikeLihood is -375243.372202704\n",
            "Number of iteration is : 70\n",
            "LogLikeLihood is -375194.8891522225\n",
            "Number of iteration is : 71\n",
            "LogLikeLihood is -375243.372202971\n",
            "Number of iteration is : 72\n",
            "LogLikeLihood is -375194.8891519761\n",
            "Number of iteration is : 73\n",
            "LogLikeLihood is -375243.3722032383\n",
            "Number of iteration is : 74\n",
            "LogLikeLihood is -375194.8891517067\n",
            "Number of iteration is : 75\n",
            "LogLikeLihood is -375243.37220348953\n",
            "Number of iteration is : 76\n",
            "LogLikeLihood is -375194.88915145147\n",
            "Number of iteration is : 77\n",
            "LogLikeLihood is -375243.37220375706\n",
            "Number of iteration is : 78\n",
            "LogLikeLihood is -375194.88915119076\n",
            "Number of iteration is : 79\n",
            "LogLikeLihood is -375243.3722039768\n",
            "Number of iteration is : 80\n",
            "LogLikeLihood is -375194.88915094035\n",
            "Number of iteration is : 81\n",
            "LogLikeLihood is -375243.37220427505\n",
            "Number of iteration is : 82\n",
            "LogLikeLihood is -375194.8891506884\n",
            "Number of iteration is : 83\n",
            "LogLikeLihood is -375243.37220452144\n",
            "Number of iteration is : 84\n",
            "LogLikeLihood is -375194.88915040996\n",
            "Number of iteration is : 85\n",
            "LogLikeLihood is -375243.3722048005\n",
            "Number of iteration is : 86\n",
            "LogLikeLihood is -375194.8891501559\n",
            "Number of iteration is : 87\n",
            "LogLikeLihood is -375243.3722050369\n",
            "Number of iteration is : 88\n",
            "LogLikeLihood is -375194.88914991263\n",
            "Number of iteration is : 89\n",
            "LogLikeLihood is -375243.37220528757\n",
            "Number of iteration is : 90\n",
            "LogLikeLihood is -375194.8891496372\n",
            "Number of iteration is : 91\n",
            "LogLikeLihood is -375243.37220556074\n",
            "Number of iteration is : 92\n",
            "LogLikeLihood is -375194.889149388\n",
            "Number of iteration is : 93\n",
            "LogLikeLihood is -375243.37220581673\n",
            "Number of iteration is : 94\n",
            "LogLikeLihood is -375194.88914913434\n",
            "Number of iteration is : 95\n",
            "LogLikeLihood is -375243.37220608885\n",
            "Number of iteration is : 96\n",
            "LogLikeLihood is -375194.88914885424\n",
            "Number of iteration is : 97\n",
            "LogLikeLihood is -375243.3722063135\n",
            "Number of iteration is : 98\n",
            "LogLikeLihood is -375194.88914861984\n",
            "Number of iteration is : 99\n",
            "LogLikeLihood is -375243.3722065867\n"
          ],
          "name": "stdout"
        }
      ]
    },
    {
      "cell_type": "code",
      "metadata": {
        "id": "6qjM1GocLCLD",
        "outputId": "55f2f06a-36e3-436e-dfc4-be47a9e972e6",
        "colab": {
          "base_uri": "https://localhost:8080/",
          "height": 279
        }
      },
      "source": [
        "plt.plot(range(0,len(sigma_eps_Arr)) , sigma_eps_Arr , label = \"sigma_eps\")\n",
        "plt.plot(range(0,len(sigma_seas_Arr)) , sigma_seas_Arr , label = \"sigma_seas\")\n",
        "plt.xlabel(\"Index\")\n",
        "plt.ylabel(\"Q\")\n",
        "plt.legend()\n",
        "plt.show()"
      ],
      "execution_count": 25,
      "outputs": [
        {
          "output_type": "display_data",
          "data": {
            "image/png": "[encoded data removed]",
            "text/plain": [
              "<Figure size 432x288 with 1 Axes>"
            ]
          },
          "metadata": {
            "tags": [],
            "needs_background": "light"
          }
        }
      ]
    },
    {
      "cell_type": "code",
      "metadata": {
        "id": "j0sIxbSLyTDW",
        "outputId": "abf0beb5-ae43-48d7-a918-953413cdeeb5",
        "colab": {
          "base_uri": "https://localhost:8080/",
          "height": 290
        }
      },
      "source": [
        "#likelihood plot\n",
        "\n",
        "plt.plot(range(0,len(logLikeLi)) , logLikeLi , label = \"Loglikelihood\")\n",
        "plt.xlabel(\"Iteration\")\n",
        "plt.ylabel(\"Log Likelihood\")\n",
        "plt.legend()\n",
        "plt.show()"
      ],
      "execution_count": 26,
      "outputs": [
        {
          "output_type": "display_data",
          "data": {
            "image/png": "[encoded data removed]",
            "text/plain": [
              "<Figure size 432x288 with 1 Axes>"
            ]
          },
          "metadata": {
            "tags": [],
            "needs_background": "light"
          }
        }
      ]
    },
    {
      "cell_type": "markdown",
      "metadata": {
        "id": "UeyfjST_LCLH"
      },
      "source": [
        "## 2.4 Further analysing the data\n",
        "We will now fix the model according to the final output from the EM algorithm and further analyse the data using this model."
      ]
    },
    {
      "cell_type": "markdown",
      "metadata": {
        "id": "OCR0l60ALCLH"
      },
      "source": [
        "**Q13:** Rerun the Kalman filter to compute a _long range prediction for the validation data points,_ analogously to **Q8** (you can copy-paste code from that question). That is, generate a plot which shows:\n",
        "1. The data $y_{1:n+m}$,\n",
        "2. The one-step predictions $\\hat y_{t|t-1} \\pm 1 $ standard deviation for the training data, i.e., $t = 1,...,n$,\n",
        "3. The long-range predictions $\\hat y_{t|n} \\pm 1 $ standard deviation for the validation data, i.e., $t= n+1,...,n+m$,\n",
        "4. A vertical line indicating the switch between training and validation data, using, e.g., `plt.axvline(x=u[n])`.\n",
        "\n",
        "Furthermore, compute the training data log-likelihood $\\log p(y_{1:n})$ using the estimated model (cf. **Q9**)."
      ]
    },
    {
      "cell_type": "code",
      "metadata": {
        "id": "RHyKZb0fLCLI"
      },
      "source": [
        "#create model with new parameters \n",
        "#since last values will be used to direectly creating model with last Var values \n",
        "model = LGSS(T, R , Q, Z , sigma_eps2 , a1 , P1)\n",
        "n = 800\n",
        "m = ndata-n\n",
        "yTrain = y.copy()\n",
        "#implemented such that for we can use it for long range prediction(i.e. adding Nan for future values) \n",
        "yTrain[801:] = np.nan\n",
        "kf = kalman_filter(yTrain , model)\n",
        "\n",
        "sd1 = kf.y_pred - np.sqrt(kf.F_pred)\n",
        "sd2 = kf.y_pred + np.sqrt(kf.F_pred)\n"
      ],
      "execution_count": 27,
      "outputs": []
    },
    {
      "cell_type": "code",
      "metadata": {
        "id": "qzewFp8ELCLM",
        "outputId": "a0a85582-6972-4c3d-9979-62bed10ca86d",
        "colab": {
          "base_uri": "https://localhost:8080/",
          "height": 279
        }
      },
      "source": [
        "#Data Plot \n",
        "plt.plot(u,y ,label = \"Original Data\")\n",
        "plt.plot(u , kf.y_pred , label = \"Kalman Pred with EM Parameter\")\n",
        "#plt.scatter(u , sd1 , label = \"Standard Deviation\" , color = \"green\")\n",
        "#plt.scatter(u , sd2 , label = \"Standard Deviation\" , color = \"green\")\n",
        "plt.plot(u , sd1 , label = \"Standard Deviation\" , color = \"green\")\n",
        "plt.plot(u , sd2 , label = \"Standard Deviation\" , color = \"green\")\n",
        "plt.axvline(x=u[n])\n",
        "plt.xlabel(\"Time\")\n",
        "plt.ylabel(\"GMSL\")\n",
        "plt.legend()\n",
        "plt.show()"
      ],
      "execution_count": 28,
      "outputs": [
        {
          "output_type": "display_data",
          "data": {
            "image/png": "[encoded data removed]",
            "text/plain": [
              "<Figure size 432x288 with 1 Axes>"
            ]
          },
          "metadata": {
            "tags": [],
            "needs_background": "light"
          }
        }
      ]
    },
    {
      "cell_type": "code",
      "metadata": {
        "id": "fWZzVpsR1ZLT",
        "outputId": "dec43d94-3a50-45a2-f003-affd84b9f351",
        "colab": {
          "base_uri": "https://localhost:8080/",
          "height": 34
        }
      },
      "source": [
        "#Traning Data Log Likelihood\n",
        "logLikLi = (-1/2)*(np.sum(np.log(np.absolute(kf.F_pred[:801,])) + (np.transpose(yTrain[:801,] - kf.y_pred[:801,]) / kf.F_pred[:801,]) @ (yTrain[:801,] - kf.y_pred[:801,])))\n",
        "print(f\"Log-Likelihood for Training Data is {logLikLi}\")"
      ],
      "execution_count": 29,
      "outputs": [
        {
          "output_type": "stream",
          "text": [
            "Log-Likelihood for Training Data is -375194.88914835604\n"
          ],
          "name": "stdout"
        }
      ]
    },
    {
      "cell_type": "markdown",
      "metadata": {
        "id": "WLeLhoRTLCLQ"
      },
      "source": [
        "Note that we can view the model for the data $y_t$ as being comprised of an underlying \"signal\", $s_t = \\mu_t + \\gamma_t$ plus observation noise $\\varepsilon_t$\n",
        "\n",
        "\\begin{align}\n",
        "    y_t = s_t + \\varepsilon_t\n",
        "\\end{align}\n",
        "\n",
        "We can obtain refined, _smoothed,_ estimates of this signal by conditioning on all the training data $y_{1:n}$. "
      ]
    },
    {
      "cell_type": "markdown",
      "metadata": {
        "id": "dPg_9sdaLCLS"
      },
      "source": [
        "**Q14:** Run a Kalman smoother to compute smoothed estimates of the signal, $\\mathbb{E}[s_t | y_{1:n}]$, conditionally on all the _training data_. Then, similarly to above, plot the following:\n",
        "1. The data $y_{1:n+m}$,\n",
        "2. The smoothed estimates $\\mathbb{E}[s_t | y_{1:n}] \\pm 1 $ standard deviation for the training data, i.e., $t = 1,...,n$,\n",
        "3. The predictions $\\mathbb{E}[s_t | y_{1:n}] \\pm 1 $ standard deviation for the validation data, i.e., $t = n+1,...,n+m$,\n",
        "4. A vertical line indicating the switch between training and validation data, using, e.g., `plt.axvline(x=u[n])`.\n",
        "\n",
        "_Hint:_ Express $s_t$ in terms of $\\alpha_t$. Based on this expression, compute the smoothed mean and variance of $s_t$ based on the smoothed mean and covariance of $\\alpha_t$."
      ]
    },
    {
      "cell_type": "code",
      "metadata": {
        "id": "X-6Yp8t5LCLT"
      },
      "source": [
        "ksSE = kalman_smoother(yTrain , model , kf) "
      ],
      "execution_count": 30,
      "outputs": []
    },
    {
      "cell_type": "code",
      "metadata": {
        "id": "FYkN6YhP4i7_"
      },
      "source": [
        "#since s_t = z * alpha_sum \n",
        "\n",
        "n = len(yTrain)\n",
        "s_tMean = []\n",
        "s_tVar = []\n",
        "for t in range(0,n):\n",
        "  s_tMean.append(Z @ ksSE.alpha_sm[:,:,t])\n",
        "  s_tVar.append(((Z @ ksSE.V[:,:,t]) @ np.transpose(Z)) + sigma_eps**2)\n",
        "\n"
      ],
      "execution_count": 31,
      "outputs": []
    },
    {
      "cell_type": "code",
      "metadata": {
        "id": "8ghl9gxZ9ZgW"
      },
      "source": [
        "from pandas.core.common import flatten\n",
        "s_tMean = list(flatten(s_tVar))\n",
        "s_tVar = list(flatten(s_tVar))"
      ],
      "execution_count": 32,
      "outputs": []
    },
    {
      "cell_type": "code",
      "metadata": {
        "id": "wWgRmLG5_24u"
      },
      "source": [
        "sd1KS = s_tMean - np.sqrt(s_tVar)\n",
        "sd2KS = s_tMean + np.sqrt(s_tVar)"
      ],
      "execution_count": 33,
      "outputs": []
    },
    {
      "cell_type": "code",
      "metadata": {
        "id": "jrDtrSqv5Eev",
        "outputId": "f31f7909-b901-4fa4-f506-a3f4ed8502ff",
        "colab": {
          "base_uri": "https://localhost:8080/",
          "height": 279
        }
      },
      "source": [
        "#Data Plot \n",
        "plt.plot(u,y ,label = \"Original Data\")\n",
        "plt.plot(u , s_tMean , label = \"Kalman Smoothing Mean\")\n",
        "plt.scatter(u , sd1KS , label = \"Standard Deviation\" , color = \"green\")\n",
        "plt.scatter(u , sd2KS , label = \"Standard Deviation\" , color = \"green\")\n",
        "plt.axvline(x=u[801])\n",
        "plt.xlabel(\"Time\")\n",
        "plt.ylabel(\"GMSL\")\n",
        "plt.legend()\n",
        "plt.show()"
      ],
      "execution_count": 36,
      "outputs": [
        {
          "output_type": "display_data",
          "data": {
            "image/png": "[encoded data removed]",
            "text/plain": [
              "<Figure size 432x288 with 1 Axes>"
            ]
          },
          "metadata": {
            "tags": [],
            "needs_background": "light"
          }
        }
      ]
    },
    {
      "cell_type": "markdown",
      "metadata": {
        "id": "YpVso7kSLCLW"
      },
      "source": [
        "**Q15:** Explain, using a few sentences, the qualitative differences (or similarities) between the Kalman filter predictions plotted in **Q13** and the smoothed signal estimates plotted in **Q14** for,\n",
        "1. Training data points, $t \\leq n$\n",
        "2. Validation data points, $t > n$"
      ]
    },
    {
      "cell_type": "markdown",
      "metadata": {
        "id": "gs9pyQGjLCLX"
      },
      "source": [
        "**A:**"
      ]
    },
    {
      "cell_type": "markdown",
      "metadata": {
        "id": "DNab_WYdLCLX"
      },
      "source": [
        "We can shed additional light on the properties of the process under study by further decomposing the signal into its trend and seasonal components."
      ]
    },
    {
      "cell_type": "markdown",
      "metadata": {
        "id": "dg3Qs7qfLCLY"
      },
      "source": [
        "**Q16:** Using the results of the state smoother, compute and plot the _smoothed estimates_ of the two signal components, i.e.:\n",
        "\n",
        "1. Trend: $\\hat \\mu_{t|n} = \\mathbb{E}[\\mu_t | y_{1:n}]$ for $t = 1,\\dots,n$\n",
        "2. Seasonal: $\\hat \\gamma_{t|n} = \\mathbb{E}[\\gamma_t | y_{1:n}]$ for $t = 1,\\dots,n$\n",
        "\n",
        "_(You don't have to include confidence intervals here if don't want to, for brevity.)_"
      ]
    },
    {
      "cell_type": "code",
      "metadata": {
        "id": "F_7yl7y6LCLZ"
      },
      "source": [
        ""
      ],
      "execution_count": 34,
      "outputs": []
    },
    {
      "cell_type": "markdown",
      "metadata": {
        "id": "kRrCAizMLCLc"
      },
      "source": [
        "## 2.5 Missing data\n",
        "We conclude this section by illustrating one of the key merits of the state space approach to time series analysis, namely the simplicity of handling missing data. To this end we will assume that a chunk of observations in the middle of the training data is missing."
      ]
    },
    {
      "cell_type": "markdown",
      "metadata": {
        "id": "ixqRdwbRLCLd"
      },
      "source": [
        "**Q17:** Let the values $y_{t}$ for $ 300 < t \\leq 400$ be missing (set to `np.nan`). Modify the data and rerun the Kalman filter and smoother. Plot,\n",
        "1. The Kalman filter predictions, analogously to **Q8**\n",
        "2. The Kalman smoother predictions, analogously to **Q13**\n",
        "\n",
        "Comment on the qualitative differences between the filter and smoother estimates and explain what you see (in a couple of sentences)."
      ]
    },
    {
      "cell_type": "code",
      "metadata": {
        "id": "fv833RMsLCLe"
      },
      "source": [
        "yNew = y.copy"
      ],
      "execution_count": 37,
      "outputs": []
    },
    {
      "cell_type": "code",
      "metadata": {
        "id": "f0FgMmn5F7bo"
      },
      "source": [
        ""
      ],
      "execution_count": null,
      "outputs": []
    },
    {
      "cell_type": "markdown",
      "metadata": {
        "id": "o1aPq9yMLCLj"
      },
      "source": [
        "## Appendix A. Why didn't we learn the trend noise variance as well?\n",
        "In the assignment above we have fixed $\\sigma_\\mu$ to a small value. Conceptually it would have been straightforward to learn also this parameter with the EM algorithm. However, unfortunately, the maximum likelihood estimate of $\\sigma_\\mu$ often ends up being too large to result in accurate _long term predictions_. The reason for this issue is that the structural model\n",
        "\n",
        "\\begin{align}\n",
        "    y_t = \\mu_t + \\gamma_t + \\varepsilon_t\n",
        "\\end{align}\n",
        "\n",
        "is not a perfect description of reality. As a consequence, when learning the parameters the mismatch between the model and the data is compensated for by increasing the noise variances. This results in a trend component which does not only capture the long term trends of the data, but also seemingly random variations due to a model misspecification, possibly resulting in poor _long range predictions_.\n",
        "\n",
        "Kitagawa (Introduction to Time Series Modeling, CRC Press, 2010, Section 12.3) discusses this issue and proposes two solutions. The first is a simple and pragmatic one: simply fix $\\sigma_\\mu^2$ to a value smaller than the maximum likelihood estimate. This is the approach we have taken in this assignment. The issue is of course that in practice it is hard to know what value to pick, which boild down to manual trial and error (or, if you are lucky, the designer of the lab assignment will tell you which value to use!).\n",
        "\n",
        "The second, more principled, solution proposed by Kitagawa is to augment the model with a stationary AR component as well. That is, we model\n",
        "\n",
        "\\begin{align}\n",
        "    y_t = \\mu_t + \\gamma_t + \\nu_t + \\varepsilon_t\n",
        "\\end{align}\n",
        "\n",
        "where $\\nu_t \\sim$ AR$(p)$. By doing so, the stationary AR component can compensate for the discrepancies between the original structural model and the \"true data generating process\". It is straightforward to include this new component in the state space representation (how?) and to run the Kalman filter and smoother on the resulting model. Indeed, this is one of the beauties with working with the state space representation of time series data! However, the M-step of the EM algorithm becomes a bit more involved if we want to use the method to estimate also the AR coefficients of the $\\nu$-component, which is beyond the scope of this lab assignment."
      ]
    }
  ]
}